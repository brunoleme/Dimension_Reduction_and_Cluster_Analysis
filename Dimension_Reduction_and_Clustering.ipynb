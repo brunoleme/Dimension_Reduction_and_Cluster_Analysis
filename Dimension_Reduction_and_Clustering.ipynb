{
  "nbformat": 4,
  "nbformat_minor": 0,
  "metadata": {
    "colab": {
      "name": "Dimension_Reduction_and_Clustering.ipynb",
      "provenance": [],
      "collapsed_sections": [],
      "toc_visible": true,
      "authorship_tag": "ABX9TyPwt/mXkyPzMg0Q7080PkSp",
      "include_colab_link": true
    },
    "kernelspec": {
      "name": "python3",
      "display_name": "Python 3"
    }
  },
  "cells": [
    {
      "cell_type": "markdown",
      "metadata": {
        "id": "view-in-github",
        "colab_type": "text"
      },
      "source": [
        "<a href=\"https://colab.research.google.com/github/brunoleme/Dimension_Reduction_and_Clustering/blob/main/Dimension_Reduction_and_Clustering.ipynb\" target=\"_parent\"><img src=\"https://colab.research.google.com/assets/colab-badge.svg\" alt=\"Open In Colab\"/></a>"
      ]
    },
    {
      "cell_type": "markdown",
      "metadata": {
        "id": "4XAknLlG0Jji"
      },
      "source": [
        "# **Dependencies**"
      ]
    },
    {
      "cell_type": "code",
      "metadata": {
        "id": "_x3lveleeIez",
        "colab": {
          "base_uri": "https://localhost:8080/"
        },
        "outputId": "d204623f-595b-4489-b98c-17a1b2be92ad"
      },
      "source": [
        "from google.colab import drive\n",
        "drive.mount('/content/drive')"
      ],
      "execution_count": null,
      "outputs": [
        {
          "output_type": "stream",
          "text": [
            "Drive already mounted at /content/drive; to attempt to forcibly remount, call drive.mount(\"/content/drive\", force_remount=True).\n"
          ],
          "name": "stdout"
        }
      ]
    },
    {
      "cell_type": "code",
      "metadata": {
        "id": "EmTloGJCe0xt"
      },
      "source": [
        "import json\n",
        "import numpy as np\n",
        "import itertools\n",
        "import pandas as pd\n",
        "from wordcloud import WordCloud\n",
        "from matplotlib import pyplot as plt\n",
        "from PIL import Image\n",
        "import random"
      ],
      "execution_count": null,
      "outputs": []
    },
    {
      "cell_type": "code",
      "metadata": {
        "id": "wWwKTvSwrQvo"
      },
      "source": [
        "from sklearn.decomposition import TruncatedSVD\n",
        "from sklearn.preprocessing import StandardScaler\n",
        "from sklearn.cluster import AgglomerativeClustering\n",
        "from sklearn.cluster import KMeans\n",
        "from scipy.cluster.hierarchy import dendrogram"
      ],
      "execution_count": null,
      "outputs": []
    },
    {
      "cell_type": "markdown",
      "metadata": {
        "id": "EnYkLxcY3qoA"
      },
      "source": [
        "The data of this study is from my personal social network on Facebook, collected in 2014, through Facebook Graph API v1.1."
      ]
    },
    {
      "cell_type": "code",
      "metadata": {
        "id": "4vWynjvMe3tW"
      },
      "source": [
        "with open('/content/drive/My Drive/Facebook_Data_Bruno_Leme/favorite_music.json', 'rb') as file:\n",
        "    dict_friends_favorite_music = json.loads(file.read())"
      ],
      "execution_count": null,
      "outputs": []
    },
    {
      "cell_type": "markdown",
      "metadata": {
        "id": "9s01nPxh0ckG"
      },
      "source": [
        "# **Data Prep**"
      ]
    },
    {
      "cell_type": "markdown",
      "metadata": {
        "id": "3dbX8E7_0F3k"
      },
      "source": [
        "Inspecting structure of the dictionary loaded from json file."
      ]
    },
    {
      "cell_type": "code",
      "metadata": {
        "colab": {
          "base_uri": "https://localhost:8080/"
        },
        "id": "YWD5qh9nzqOE",
        "outputId": "12a1917b-ef5b-44b9-b976-dd367d656a51"
      },
      "source": [
        "[k for k in dict_friends_favorite_music][:10]"
      ],
      "execution_count": null,
      "outputs": [
        {
          "output_type": "execute_result",
          "data": {
            "text/plain": [
              "['data']"
            ]
          },
          "metadata": {
            "tags": []
          },
          "execution_count": 5
        }
      ]
    },
    {
      "cell_type": "code",
      "metadata": {
        "colab": {
          "base_uri": "https://localhost:8080/"
        },
        "id": "QmVygBGxz04U",
        "outputId": "d2b9dcbb-2a2b-434b-838e-e64d0d4365d4"
      },
      "source": [
        "[k for k in dict_friends_favorite_music['data']][:10]"
      ],
      "execution_count": null,
      "outputs": [
        {
          "output_type": "execute_result",
          "data": {
            "text/plain": [
              "[{'music': 'In Perpetuum, Maíra Guedes e os Baluartes, Aerosmith, Red Hot Chili Peppers, Metallica, Legião Urbana',\n",
              "  'uid': 530759938},\n",
              " {'music': 'Bangalafumenga, Banda Vallente', 'uid': 531013568},\n",
              " {'music': '2 Chainz, Dee, Alana Bridgewater, Lil Wayne, R. Kelly, Wiz Khalifa, Wiz Khalifa voice (Okaaaayyyyyyyy!), Michael Jackson',\n",
              "  'uid': 534275844},\n",
              " {'music': \"Insta Vídeos, Arlindo Cruz, Móveis Coloniais de Acaju, Videos Engraçados Para Rir, Beyoncé, Rodrigo Ramos, Mc Menor Do Chapa, Projota, Rap Nacional Frases, Mc Smith, @segureotchan, Lil Wayne, MC NEGO BLUE ( OFICIAL ), Mano Brown, Parei de Beber, Não de Mentir, Aliados, MC Buchecha, Ivete Sangalo, Racionais MC's, Reinaldo, o Príncipe do Pagode\",\n",
              "  'uid': 534300238},\n",
              " {'music': 'Banda Os Devaneios, The Beatles, Bob Marley', 'uid': 537347192},\n",
              " {'music': 'Maria Rita, Na Palma Da Mão, Zeca Pagodinho, Rádio Iguatemi Prime 92,5 MHZ, Grupo Doce Encontro, Bateria Mirim Rosas De Ouro, Te encontro na Tucuruvi, Grupo Sedusom, Frases Titãs, Tim Maia, Frases de Pagode, Vinicius de Moraes, Bar Templo, Bateria da Caprichosos - Venenosa de Pilares, Portela, Grupo Revelação, Batuque de Corda, Universal Music Brasil, Chico Buarque, Rodrigo Ferreira, Ala Se Fui Pobre Nem Me Lembro, Bateria da Portela - Tabajara do Samba, Glamour da Batucada, Diogo Nogueira, Bateria Cadência da Vila, Indireta, BATERIA RITMO PURO RITMISTAS CARNAVAL 2012, Groove Allegro, Belo, G.R.E.S. Portela, Zeca Pagodinho, Groove Samba',\n",
              "  'uid': 540657595},\n",
              " {'music': \"Kiara Rocks, OTTO, Serguei, Diogo Nogueira, Palavra Cantada, SynSUN, The Clowns, Eli Iwasa, Sambô, Dj Marlboro, Cher, Rage Against The Machine, Chris Brown, LMFAO, Natura Musical, Warner Music Brasil Catálogo, Festa Do Cigano, Keenhouse, BOSS Traditional JAZZ, 360k Estúdio, Carlinhos ZODI, Festival Clipes e Bandas, Oui Madame, Jony Ken, HSBC Brasil, Lívia Cruz, Nathy MC - Oficial, Pulse 011, Thaís GULIN, dj mau mau, Paula Fernandes, Du Serena, Kelly Divan, Ceder, Banda Zero Kill, Maverick 58 Classic Rock Band, Whitesnake/David Coverdale, Jim Morrison, Loreena McKennitt, DJ KING, Pete Tha Zouk, Emicida, Os Thompsons, David Bowie (Official), Lenny Kravitz, Paula Fernandes, Fernando e Sorocaba, Coldplay, Bon Jovi, Astrix, The Prodigy, Stone Temple Pilots, RUSH, Steve Vai, Bad Religion, Van Halen, Cypress Hill, Jimi Hendrix, Sonic Youth, Beastie Boys, Black Sabbath, The Smashing Pumpkins, The Rolling Stones, Nirvana, Janis Joplin, Blink-182, Megadeth, Sepultura, Morrissey Official, Marvin Gaye, Nightwish, Stevie Wonder, Phil Collins, Faith No More, Fergie, The Offspring, Shania Twain, Lil Wayne, Alice in Chains, Sublime, Enya, A-ha, Korn, PIXIES, Slipknot, Paul McCartney, Sade, Snoop Dogg, Miley Cyrus, Creed, 50 Cent, Björk, Slash, The Ramones, R.E.M., Backstreet Boys, Depeche Mode, Bob Dylan, Ricky Martin, The Cure, John Lennon, O Teatro Mágico, Ne-Yo, Eminem, Ozzy Osbourne, System of a Down, Ben Harper, Usher, Green Day, Norah Jones, Aerosmith, Radiohead, Ana Carolina, Oasis, Linkin Park, Alanis Morissette, Metallica, ELVIS PRESLEY, AC/DC, RITA LEE, Foo Fighters, The Smiths, Guns N' Roses, Red Hot Chili Peppers, Black Eyed Peas, The Doors, Pearl Jam, Shakira, Bob Marley, Ivete Sangalo, Katy Perry, Jennifer Lopez, Beyoncé, Jay Z, Bloco Do Sargento Pimenta, The Beatles, Nickelback, Amy Winehouse, No Doubt, U2, Jack Johnson\",\n",
              "  'uid': 542798668},\n",
              " {'music': 'Bagunça S.A, AxéBand, Skol Sensation, Cordão Carnavalesco Confraria do Pasmado, Bloco do Suru, Axé Band, Rodrigo Reys, Fernando e Sorocaba, Monobloco Oficial, Diogo Nogueira, Tuca Fernandes (Fan Page), Caldas Country Show, Naldo, Bob Marley, Mamonas Assassinas, Bloco Me Abraça, Jorge & Mateus, João Bosco e Vinicius, Israel e Rodolffo, João Neto e Frederico, TIMBALADA, Humberto e Ronaldo, Munhoz e Mariano, Só Sertanejo 10, Banda Cincoporcento, Sertanejo, Luan Santana, Gusttavo Lima, Jorge e Mateus, Asa de Águia, ASA Trip, Saulo Fernandes, Sou Camaleão, Leo Derobi, Exaltasamba, Lady Gaga, Tiësto, Marcos & Belutti, Exaltasamba, Monobloco, Madonna, Chiclete com Banana, Tomate, Black Eyed Peas, Dj Tiesto, Amy Winehouse, TOMATE, Asa de Águia Oficial, Banda Eva, Claudia Leitte, David Guetta, U2, Ivete Sangalo',\n",
              "  'uid': 545577860},\n",
              " {'music': 'Future Music Festival, Playground São Paulo, Swedish House Mafia',\n",
              "  'uid': 546093207},\n",
              " {'music': 'Gerson Lima Filho (Atualizaçâo De Videos), Darrell Evans, Paula Fernandes',\n",
              "  'uid': 546688440}]"
            ]
          },
          "metadata": {
            "tags": []
          },
          "execution_count": 6
        }
      ]
    },
    {
      "cell_type": "markdown",
      "metadata": {
        "id": "W771wot_0qN4"
      },
      "source": [
        "As seen above, the dictionary is compound of a list of dicionaries, each dictionary is compund of two elements, uid and music, which represents the Facebook user id and the list of music pages that this user liked, respectivilly. The list of music isn't in a list structure, but it's a string with music pages, separeted by commas."
      ]
    },
    {
      "cell_type": "markdown",
      "metadata": {
        "id": "s58UNuiJ3icC"
      },
      "source": [
        "Converting the string music in a proper python list format."
      ]
    },
    {
      "cell_type": "code",
      "metadata": {
        "id": "HMvpjH2rwWyF"
      },
      "source": [
        "#function to convert the string of music page list in a proper python list format\n",
        "def item_list(str_items):\n",
        "  music = '' # current music page from concatenating of characters, one by one.\n",
        "  music_list = [] # list o music pages to return\n",
        "  flg_quote = False #flag to control when we are inside of a quote, to avoid spliting incorrectilly\n",
        "  for c in str_items: #foreach character in the string\n",
        "    if c == '\"': #if quote is found, switch the flg_quote (True to False or False to True) \n",
        "      flg_quote = not flg_quote\n",
        "    if c == ',' and not flg_quote: #if comma is found and is not inside quotes, add music to music_list\n",
        "      music_list.append(music.strip())\n",
        "      music = '' #erase music\n",
        "    else:\n",
        "      music += c #concatenate the character c to music\n",
        "  music_list.append(music.strip()) #last element\n",
        "  return music_list"
      ],
      "execution_count": null,
      "outputs": []
    },
    {
      "cell_type": "code",
      "metadata": {
        "id": "k6PfLrChhT3M"
      },
      "source": [
        "#creating a new dict, with uids as keys, with its treated music page list as value.\n",
        "dict_all_friend = {}\n",
        "for f in dict_friends_favorite_music['data']:\n",
        "  dict_friend = dict(f)\n",
        "  uid = dict_friend['uid']\n",
        "  friend_music_list = item_list(dict_friend['music'])\n",
        "  dict_all_friend[uid] = friend_music_list"
      ],
      "execution_count": null,
      "outputs": []
    },
    {
      "cell_type": "code",
      "metadata": {
        "id": "W8U7QjFZjEfB"
      },
      "source": [
        "#list of all music pages, and its like counts\n",
        "music_list = np.array(np.unique(list(itertools.chain.from_iterable([v for k, v in dict_all_friend.items()])), return_counts=True)).T"
      ],
      "execution_count": null,
      "outputs": []
    },
    {
      "cell_type": "code",
      "metadata": {
        "id": "pedy_gUmlEIV"
      },
      "source": [
        "music_df = pd.DataFrame(music_list, columns=['page', 'count'])\n",
        "music_df['count'] = music_df['count'].astype(np.int32)\n",
        "music_df = music_df.sort_values('count', ascending=False).reset_index(drop=True) #ordering by page likes"
      ],
      "execution_count": null,
      "outputs": []
    },
    {
      "cell_type": "code",
      "metadata": {
        "id": "JwEn8LYp1jLZ",
        "colab": {
          "base_uri": "https://localhost:8080/"
        },
        "outputId": "0e969eac-7470-469f-c496-a5fb9523092a"
      },
      "source": [
        "music_df.shape"
      ],
      "execution_count": null,
      "outputs": [
        {
          "output_type": "execute_result",
          "data": {
            "text/plain": [
              "(7843, 2)"
            ]
          },
          "metadata": {
            "tags": []
          },
          "execution_count": 11
        }
      ]
    },
    {
      "cell_type": "markdown",
      "metadata": {
        "id": "AwshP-gn4__F"
      },
      "source": [
        "## **Exploratory Data Analysis**"
      ]
    },
    {
      "cell_type": "markdown",
      "metadata": {
        "id": "HBCgNZbx-Lp3"
      },
      "source": [
        "As seen following, it's observed the list of 80 most popular music pages of my social network."
      ]
    },
    {
      "cell_type": "code",
      "metadata": {
        "id": "6BJkdr-F2mrx",
        "colab": {
          "base_uri": "https://localhost:8080/",
          "height": 419
        },
        "outputId": "bdc22990-219c-4106-a44a-dd8ebde80672"
      },
      "source": [
        "music_df[:80]"
      ],
      "execution_count": null,
      "outputs": [
        {
          "output_type": "execute_result",
          "data": {
            "text/html": [
              "<div>\n",
              "<style scoped>\n",
              "    .dataframe tbody tr th:only-of-type {\n",
              "        vertical-align: middle;\n",
              "    }\n",
              "\n",
              "    .dataframe tbody tr th {\n",
              "        vertical-align: top;\n",
              "    }\n",
              "\n",
              "    .dataframe thead th {\n",
              "        text-align: right;\n",
              "    }\n",
              "</style>\n",
              "<table border=\"1\" class=\"dataframe\">\n",
              "  <thead>\n",
              "    <tr style=\"text-align: right;\">\n",
              "      <th></th>\n",
              "      <th>page</th>\n",
              "      <th>count</th>\n",
              "    </tr>\n",
              "  </thead>\n",
              "  <tbody>\n",
              "    <tr>\n",
              "      <th>0</th>\n",
              "      <td>Zeca Pagodinho</td>\n",
              "      <td>129</td>\n",
              "    </tr>\n",
              "    <tr>\n",
              "      <th>1</th>\n",
              "      <td>Diogo Nogueira</td>\n",
              "      <td>124</td>\n",
              "    </tr>\n",
              "    <tr>\n",
              "      <th>2</th>\n",
              "      <td>Ivete Sangalo</td>\n",
              "      <td>122</td>\n",
              "    </tr>\n",
              "    <tr>\n",
              "      <th>3</th>\n",
              "      <td>Exaltasamba</td>\n",
              "      <td>116</td>\n",
              "    </tr>\n",
              "    <tr>\n",
              "      <th>4</th>\n",
              "      <td>Arlindo Cruz</td>\n",
              "      <td>111</td>\n",
              "    </tr>\n",
              "    <tr>\n",
              "      <th>...</th>\n",
              "      <td>...</td>\n",
              "      <td>...</td>\n",
              "    </tr>\n",
              "    <tr>\n",
              "      <th>75</th>\n",
              "      <td>Marvin Gaye</td>\n",
              "      <td>37</td>\n",
              "    </tr>\n",
              "    <tr>\n",
              "      <th>76</th>\n",
              "      <td>Glamour da Batucada</td>\n",
              "      <td>37</td>\n",
              "    </tr>\n",
              "    <tr>\n",
              "      <th>77</th>\n",
              "      <td>The Rolling Stones</td>\n",
              "      <td>37</td>\n",
              "    </tr>\n",
              "    <tr>\n",
              "      <th>78</th>\n",
              "      <td>Katy Perry</td>\n",
              "      <td>36</td>\n",
              "    </tr>\n",
              "    <tr>\n",
              "      <th>79</th>\n",
              "      <td>Ne-Yo</td>\n",
              "      <td>36</td>\n",
              "    </tr>\n",
              "  </tbody>\n",
              "</table>\n",
              "<p>80 rows × 2 columns</p>\n",
              "</div>"
            ],
            "text/plain": [
              "                   page  count\n",
              "0        Zeca Pagodinho    129\n",
              "1        Diogo Nogueira    124\n",
              "2         Ivete Sangalo    122\n",
              "3           Exaltasamba    116\n",
              "4          Arlindo Cruz    111\n",
              "..                  ...    ...\n",
              "75          Marvin Gaye     37\n",
              "76  Glamour da Batucada     37\n",
              "77   The Rolling Stones     37\n",
              "78           Katy Perry     36\n",
              "79                Ne-Yo     36\n",
              "\n",
              "[80 rows x 2 columns]"
            ]
          },
          "metadata": {
            "tags": []
          },
          "execution_count": 12
        }
      ]
    },
    {
      "cell_type": "markdown",
      "metadata": {
        "id": "grhww2fn-hQ3"
      },
      "source": [
        "Word cloud of music pages, with font size based on the frequency of their likes."
      ]
    },
    {
      "cell_type": "code",
      "metadata": {
        "id": "nMB-hnjjvqkB"
      },
      "source": [
        "def grey_color_func(word, font_size, position, orientation, random_state=None,\n",
        "                    **kwargs):\n",
        "    return \"hsl(0, 0%%, %d%%)\" % random.randint(60, 100)\n",
        "  \n",
        "\n",
        "mask = np.array(Image.open('/content/drive/My Drive/Facebook_Data_Bruno_Leme/GuitarImage.jpg'))"
      ],
      "execution_count": null,
      "outputs": []
    },
    {
      "cell_type": "code",
      "metadata": {
        "id": "qyTSQ9OMw4gA"
      },
      "source": [
        "page_freq_dict = {m : f for m, f in music_df[:80].values}"
      ],
      "execution_count": null,
      "outputs": []
    },
    {
      "cell_type": "code",
      "metadata": {
        "id": "osag_nn3w4Wj"
      },
      "source": [
        "wc = WordCloud(max_words=1000, mask=mask, margin=10, random_state=1).generate_from_frequencies(page_freq_dict)"
      ],
      "execution_count": null,
      "outputs": []
    },
    {
      "cell_type": "code",
      "metadata": {
        "id": "KQpxKH0T1OGn",
        "colab": {
          "base_uri": "https://localhost:8080/",
          "height": 530
        },
        "outputId": "5107c683-6b58-43ab-b1b2-89cb0438a120"
      },
      "source": [
        "plt.figure(figsize=(20,10))\n",
        "default_colors = wc.to_array()\n",
        "plt.imshow(wc.recolor(random_state=3),interpolation=\"bilinear\")\n",
        "plt.show()"
      ],
      "execution_count": null,
      "outputs": [
        {
          "output_type": "display_data",
          "data": {
            "image/png": "[encoded data removed]",
            "text/plain": [
              "<Figure size 1440x720 with 1 Axes>"
            ]
          },
          "metadata": {
            "tags": [],
            "needs_background": "light"
          }
        }
      ]
    },
    {
      "cell_type": "markdown",
      "metadata": {
        "id": "vEMgr4885M49"
      },
      "source": [
        "## **Dataset Creation**"
      ]
    },
    {
      "cell_type": "code",
      "metadata": {
        "id": "yJHP7vg05W3e"
      },
      "source": [
        "top_music_list = music_df['page'][:80].values"
      ],
      "execution_count": null,
      "outputs": []
    },
    {
      "cell_type": "code",
      "metadata": {
        "id": "SlJdp7WKiv7b"
      },
      "source": [
        "uid_map = {k:v for k, v in enumerate(dict_all_friend)}\n",
        "uid_inv_map = {v:k for k, v in uid_map.items()}\n",
        "music_map = {k:v for k, v in enumerate(top_music_list)}\n",
        "music_inv_map = {v:k for k, v in music_map.items()}\n",
        "music_count = {}"
      ],
      "execution_count": null,
      "outputs": []
    },
    {
      "cell_type": "code",
      "metadata": {
        "id": "zIFKyHgUzzEL"
      },
      "source": [
        "data = np.zeros((len(uid_inv_map), len(music_inv_map)), np.float64)\n",
        "for u, m_list in dict_all_friend.items():\n",
        "  for m in m_list:\n",
        "    if m not in music_inv_map:\n",
        "      continue\n",
        "    data[uid_inv_map[u], music_inv_map[m]] = 1"
      ],
      "execution_count": null,
      "outputs": []
    },
    {
      "cell_type": "code",
      "metadata": {
        "id": "WrDpzrsRqF9h"
      },
      "source": [
        "df_data = pd.DataFrame(data, columns=np.array([music_map[i] for i in range(max(music_map)+1)]))"
      ],
      "execution_count": null,
      "outputs": []
    },
    {
      "cell_type": "markdown",
      "metadata": {
        "id": "KdrE2ziq_fYD"
      },
      "source": [
        "Creating dataset in a shape of user X music pages, in order to apply dimension reduction and clustering techniques."
      ]
    },
    {
      "cell_type": "code",
      "metadata": {
        "id": "eIYPKjEprJ1T",
        "colab": {
          "base_uri": "https://localhost:8080/",
          "height": 524
        },
        "outputId": "013a1638-15b1-4ce2-ef20-18bb1a463371"
      },
      "source": [
        "df_data"
      ],
      "execution_count": null,
      "outputs": [
        {
          "output_type": "execute_result",
          "data": {
            "text/html": [
              "<div>\n",
              "<style scoped>\n",
              "    .dataframe tbody tr th:only-of-type {\n",
              "        vertical-align: middle;\n",
              "    }\n",
              "\n",
              "    .dataframe tbody tr th {\n",
              "        vertical-align: top;\n",
              "    }\n",
              "\n",
              "    .dataframe thead th {\n",
              "        text-align: right;\n",
              "    }\n",
              "</style>\n",
              "<table border=\"1\" class=\"dataframe\">\n",
              "  <thead>\n",
              "    <tr style=\"text-align: right;\">\n",
              "      <th></th>\n",
              "      <th>Zeca Pagodinho</th>\n",
              "      <th>Diogo Nogueira</th>\n",
              "      <th>Ivete Sangalo</th>\n",
              "      <th>Exaltasamba</th>\n",
              "      <th>Arlindo Cruz</th>\n",
              "      <th>Turma do Pagode</th>\n",
              "      <th>Adele</th>\n",
              "      <th>Beyoncé</th>\n",
              "      <th>Bob Marley</th>\n",
              "      <th>Seu Jorge</th>\n",
              "      <th>Djavan</th>\n",
              "      <th>Chico Buarque</th>\n",
              "      <th>Péricles</th>\n",
              "      <th>Samba</th>\n",
              "      <th>Maria Rita</th>\n",
              "      <th>David Guetta</th>\n",
              "      <th>Marcelo D2</th>\n",
              "      <th>The Beatles</th>\n",
              "      <th>Michael Jackson</th>\n",
              "      <th>Jorge e Mateus</th>\n",
              "      <th>Emicida</th>\n",
              "      <th>Pretinho do Poder</th>\n",
              "      <th>Alicia Keys</th>\n",
              "      <th>Jorge &amp; Mateus</th>\n",
              "      <th>U2</th>\n",
              "      <th>Tim Maia</th>\n",
              "      <th>Paula Fernandes</th>\n",
              "      <th>Marisa Monte</th>\n",
              "      <th>Criolo</th>\n",
              "      <th>O Rappa</th>\n",
              "      <th>Belo</th>\n",
              "      <th>Usher</th>\n",
              "      <th>Bruno Mars</th>\n",
              "      <th>Red Hot Chili Peppers</th>\n",
              "      <th>Sambô</th>\n",
              "      <th>Cartola</th>\n",
              "      <th>Black Eyed Peas</th>\n",
              "      <th>Coldplay</th>\n",
              "      <th>Eminem</th>\n",
              "      <th>Amy Winehouse</th>\n",
              "      <th>Cantor Mumuzinho</th>\n",
              "      <th>Beth Carvalho</th>\n",
              "      <th>Cazuza</th>\n",
              "      <th>Charlie Brown Jr.</th>\n",
              "      <th>Apito de Mestre</th>\n",
              "      <th>Nirvana</th>\n",
              "      <th>BATERIA RITMO PURO RITMISTAS CARNAVAL 2012</th>\n",
              "      <th>Thiaguinho</th>\n",
              "      <th>Los Hermanos</th>\n",
              "      <th>AC/DC</th>\n",
              "      <th>Foo Fighters</th>\n",
              "      <th>Guns N' Roses</th>\n",
              "      <th>Pearl Jam</th>\n",
              "      <th>Caetano Veloso</th>\n",
              "      <th>Racionais MC's</th>\n",
              "      <th>Projota</th>\n",
              "      <th>Jack Johnson</th>\n",
              "      <th>Bom Gosto</th>\n",
              "      <th>Jay Z</th>\n",
              "      <th>Lil Wayne</th>\n",
              "      <th>Metallica</th>\n",
              "      <th>The Doors</th>\n",
              "      <th>50 Cent</th>\n",
              "      <th>Bruno Ribas</th>\n",
              "      <th>O Teatro Mágico</th>\n",
              "      <th>Pink Floyd</th>\n",
              "      <th>Linkin Park</th>\n",
              "      <th>Bon Jovi</th>\n",
              "      <th>Vanessa da Mata</th>\n",
              "      <th>Rihanna</th>\n",
              "      <th>Natiruts</th>\n",
              "      <th>Fernando e Sorocaba</th>\n",
              "      <th>Snoop Dogg</th>\n",
              "      <th>Maria Gadu</th>\n",
              "      <th>Shakira</th>\n",
              "      <th>Marvin Gaye</th>\n",
              "      <th>Glamour da Batucada</th>\n",
              "      <th>The Rolling Stones</th>\n",
              "      <th>Katy Perry</th>\n",
              "      <th>Ne-Yo</th>\n",
              "    </tr>\n",
              "  </thead>\n",
              "  <tbody>\n",
              "    <tr>\n",
              "      <th>0</th>\n",
              "      <td>0.0</td>\n",
              "      <td>0.0</td>\n",
              "      <td>0.0</td>\n",
              "      <td>0.0</td>\n",
              "      <td>0.0</td>\n",
              "      <td>0.0</td>\n",
              "      <td>0.0</td>\n",
              "      <td>0.0</td>\n",
              "      <td>0.0</td>\n",
              "      <td>0.0</td>\n",
              "      <td>0.0</td>\n",
              "      <td>0.0</td>\n",
              "      <td>0.0</td>\n",
              "      <td>0.0</td>\n",
              "      <td>0.0</td>\n",
              "      <td>0.0</td>\n",
              "      <td>0.0</td>\n",
              "      <td>0.0</td>\n",
              "      <td>0.0</td>\n",
              "      <td>0.0</td>\n",
              "      <td>0.0</td>\n",
              "      <td>0.0</td>\n",
              "      <td>0.0</td>\n",
              "      <td>0.0</td>\n",
              "      <td>0.0</td>\n",
              "      <td>0.0</td>\n",
              "      <td>0.0</td>\n",
              "      <td>0.0</td>\n",
              "      <td>0.0</td>\n",
              "      <td>0.0</td>\n",
              "      <td>0.0</td>\n",
              "      <td>0.0</td>\n",
              "      <td>0.0</td>\n",
              "      <td>1.0</td>\n",
              "      <td>0.0</td>\n",
              "      <td>0.0</td>\n",
              "      <td>0.0</td>\n",
              "      <td>0.0</td>\n",
              "      <td>0.0</td>\n",
              "      <td>0.0</td>\n",
              "      <td>0.0</td>\n",
              "      <td>0.0</td>\n",
              "      <td>0.0</td>\n",
              "      <td>0.0</td>\n",
              "      <td>0.0</td>\n",
              "      <td>0.0</td>\n",
              "      <td>0.0</td>\n",
              "      <td>0.0</td>\n",
              "      <td>0.0</td>\n",
              "      <td>0.0</td>\n",
              "      <td>0.0</td>\n",
              "      <td>0.0</td>\n",
              "      <td>0.0</td>\n",
              "      <td>0.0</td>\n",
              "      <td>0.0</td>\n",
              "      <td>0.0</td>\n",
              "      <td>0.0</td>\n",
              "      <td>0.0</td>\n",
              "      <td>0.0</td>\n",
              "      <td>0.0</td>\n",
              "      <td>1.0</td>\n",
              "      <td>0.0</td>\n",
              "      <td>0.0</td>\n",
              "      <td>0.0</td>\n",
              "      <td>0.0</td>\n",
              "      <td>0.0</td>\n",
              "      <td>0.0</td>\n",
              "      <td>0.0</td>\n",
              "      <td>0.0</td>\n",
              "      <td>0.0</td>\n",
              "      <td>0.0</td>\n",
              "      <td>0.0</td>\n",
              "      <td>0.0</td>\n",
              "      <td>0.0</td>\n",
              "      <td>0.0</td>\n",
              "      <td>0.0</td>\n",
              "      <td>0.0</td>\n",
              "      <td>0.0</td>\n",
              "      <td>0.0</td>\n",
              "      <td>0.0</td>\n",
              "    </tr>\n",
              "    <tr>\n",
              "      <th>1</th>\n",
              "      <td>0.0</td>\n",
              "      <td>0.0</td>\n",
              "      <td>0.0</td>\n",
              "      <td>0.0</td>\n",
              "      <td>0.0</td>\n",
              "      <td>0.0</td>\n",
              "      <td>0.0</td>\n",
              "      <td>0.0</td>\n",
              "      <td>0.0</td>\n",
              "      <td>0.0</td>\n",
              "      <td>0.0</td>\n",
              "      <td>0.0</td>\n",
              "      <td>0.0</td>\n",
              "      <td>0.0</td>\n",
              "      <td>0.0</td>\n",
              "      <td>0.0</td>\n",
              "      <td>0.0</td>\n",
              "      <td>0.0</td>\n",
              "      <td>0.0</td>\n",
              "      <td>0.0</td>\n",
              "      <td>0.0</td>\n",
              "      <td>0.0</td>\n",
              "      <td>0.0</td>\n",
              "      <td>0.0</td>\n",
              "      <td>0.0</td>\n",
              "      <td>0.0</td>\n",
              "      <td>0.0</td>\n",
              "      <td>0.0</td>\n",
              "      <td>0.0</td>\n",
              "      <td>0.0</td>\n",
              "      <td>0.0</td>\n",
              "      <td>0.0</td>\n",
              "      <td>0.0</td>\n",
              "      <td>0.0</td>\n",
              "      <td>0.0</td>\n",
              "      <td>0.0</td>\n",
              "      <td>0.0</td>\n",
              "      <td>0.0</td>\n",
              "      <td>0.0</td>\n",
              "      <td>0.0</td>\n",
              "      <td>0.0</td>\n",
              "      <td>0.0</td>\n",
              "      <td>0.0</td>\n",
              "      <td>0.0</td>\n",
              "      <td>0.0</td>\n",
              "      <td>0.0</td>\n",
              "      <td>0.0</td>\n",
              "      <td>0.0</td>\n",
              "      <td>0.0</td>\n",
              "      <td>0.0</td>\n",
              "      <td>0.0</td>\n",
              "      <td>0.0</td>\n",
              "      <td>0.0</td>\n",
              "      <td>0.0</td>\n",
              "      <td>0.0</td>\n",
              "      <td>0.0</td>\n",
              "      <td>0.0</td>\n",
              "      <td>0.0</td>\n",
              "      <td>0.0</td>\n",
              "      <td>0.0</td>\n",
              "      <td>0.0</td>\n",
              "      <td>0.0</td>\n",
              "      <td>0.0</td>\n",
              "      <td>0.0</td>\n",
              "      <td>0.0</td>\n",
              "      <td>0.0</td>\n",
              "      <td>0.0</td>\n",
              "      <td>0.0</td>\n",
              "      <td>0.0</td>\n",
              "      <td>0.0</td>\n",
              "      <td>0.0</td>\n",
              "      <td>0.0</td>\n",
              "      <td>0.0</td>\n",
              "      <td>0.0</td>\n",
              "      <td>0.0</td>\n",
              "      <td>0.0</td>\n",
              "      <td>0.0</td>\n",
              "      <td>0.0</td>\n",
              "      <td>0.0</td>\n",
              "      <td>0.0</td>\n",
              "    </tr>\n",
              "    <tr>\n",
              "      <th>2</th>\n",
              "      <td>0.0</td>\n",
              "      <td>0.0</td>\n",
              "      <td>0.0</td>\n",
              "      <td>0.0</td>\n",
              "      <td>0.0</td>\n",
              "      <td>0.0</td>\n",
              "      <td>0.0</td>\n",
              "      <td>0.0</td>\n",
              "      <td>0.0</td>\n",
              "      <td>0.0</td>\n",
              "      <td>0.0</td>\n",
              "      <td>0.0</td>\n",
              "      <td>0.0</td>\n",
              "      <td>0.0</td>\n",
              "      <td>0.0</td>\n",
              "      <td>0.0</td>\n",
              "      <td>0.0</td>\n",
              "      <td>0.0</td>\n",
              "      <td>1.0</td>\n",
              "      <td>0.0</td>\n",
              "      <td>0.0</td>\n",
              "      <td>0.0</td>\n",
              "      <td>0.0</td>\n",
              "      <td>0.0</td>\n",
              "      <td>0.0</td>\n",
              "      <td>0.0</td>\n",
              "      <td>0.0</td>\n",
              "      <td>0.0</td>\n",
              "      <td>0.0</td>\n",
              "      <td>0.0</td>\n",
              "      <td>0.0</td>\n",
              "      <td>0.0</td>\n",
              "      <td>0.0</td>\n",
              "      <td>0.0</td>\n",
              "      <td>0.0</td>\n",
              "      <td>0.0</td>\n",
              "      <td>0.0</td>\n",
              "      <td>0.0</td>\n",
              "      <td>0.0</td>\n",
              "      <td>0.0</td>\n",
              "      <td>0.0</td>\n",
              "      <td>0.0</td>\n",
              "      <td>0.0</td>\n",
              "      <td>0.0</td>\n",
              "      <td>0.0</td>\n",
              "      <td>0.0</td>\n",
              "      <td>0.0</td>\n",
              "      <td>0.0</td>\n",
              "      <td>0.0</td>\n",
              "      <td>0.0</td>\n",
              "      <td>0.0</td>\n",
              "      <td>0.0</td>\n",
              "      <td>0.0</td>\n",
              "      <td>0.0</td>\n",
              "      <td>0.0</td>\n",
              "      <td>0.0</td>\n",
              "      <td>0.0</td>\n",
              "      <td>0.0</td>\n",
              "      <td>0.0</td>\n",
              "      <td>1.0</td>\n",
              "      <td>0.0</td>\n",
              "      <td>0.0</td>\n",
              "      <td>0.0</td>\n",
              "      <td>0.0</td>\n",
              "      <td>0.0</td>\n",
              "      <td>0.0</td>\n",
              "      <td>0.0</td>\n",
              "      <td>0.0</td>\n",
              "      <td>0.0</td>\n",
              "      <td>0.0</td>\n",
              "      <td>0.0</td>\n",
              "      <td>0.0</td>\n",
              "      <td>0.0</td>\n",
              "      <td>0.0</td>\n",
              "      <td>0.0</td>\n",
              "      <td>0.0</td>\n",
              "      <td>0.0</td>\n",
              "      <td>0.0</td>\n",
              "      <td>0.0</td>\n",
              "      <td>0.0</td>\n",
              "    </tr>\n",
              "    <tr>\n",
              "      <th>3</th>\n",
              "      <td>0.0</td>\n",
              "      <td>0.0</td>\n",
              "      <td>1.0</td>\n",
              "      <td>0.0</td>\n",
              "      <td>1.0</td>\n",
              "      <td>0.0</td>\n",
              "      <td>0.0</td>\n",
              "      <td>1.0</td>\n",
              "      <td>0.0</td>\n",
              "      <td>0.0</td>\n",
              "      <td>0.0</td>\n",
              "      <td>0.0</td>\n",
              "      <td>0.0</td>\n",
              "      <td>0.0</td>\n",
              "      <td>0.0</td>\n",
              "      <td>0.0</td>\n",
              "      <td>0.0</td>\n",
              "      <td>0.0</td>\n",
              "      <td>0.0</td>\n",
              "      <td>0.0</td>\n",
              "      <td>0.0</td>\n",
              "      <td>0.0</td>\n",
              "      <td>0.0</td>\n",
              "      <td>0.0</td>\n",
              "      <td>0.0</td>\n",
              "      <td>0.0</td>\n",
              "      <td>0.0</td>\n",
              "      <td>0.0</td>\n",
              "      <td>0.0</td>\n",
              "      <td>0.0</td>\n",
              "      <td>0.0</td>\n",
              "      <td>0.0</td>\n",
              "      <td>0.0</td>\n",
              "      <td>0.0</td>\n",
              "      <td>0.0</td>\n",
              "      <td>0.0</td>\n",
              "      <td>0.0</td>\n",
              "      <td>0.0</td>\n",
              "      <td>0.0</td>\n",
              "      <td>0.0</td>\n",
              "      <td>0.0</td>\n",
              "      <td>0.0</td>\n",
              "      <td>0.0</td>\n",
              "      <td>0.0</td>\n",
              "      <td>0.0</td>\n",
              "      <td>0.0</td>\n",
              "      <td>0.0</td>\n",
              "      <td>0.0</td>\n",
              "      <td>0.0</td>\n",
              "      <td>0.0</td>\n",
              "      <td>0.0</td>\n",
              "      <td>0.0</td>\n",
              "      <td>0.0</td>\n",
              "      <td>0.0</td>\n",
              "      <td>1.0</td>\n",
              "      <td>1.0</td>\n",
              "      <td>0.0</td>\n",
              "      <td>0.0</td>\n",
              "      <td>0.0</td>\n",
              "      <td>1.0</td>\n",
              "      <td>0.0</td>\n",
              "      <td>0.0</td>\n",
              "      <td>0.0</td>\n",
              "      <td>0.0</td>\n",
              "      <td>0.0</td>\n",
              "      <td>0.0</td>\n",
              "      <td>0.0</td>\n",
              "      <td>0.0</td>\n",
              "      <td>0.0</td>\n",
              "      <td>0.0</td>\n",
              "      <td>0.0</td>\n",
              "      <td>0.0</td>\n",
              "      <td>0.0</td>\n",
              "      <td>0.0</td>\n",
              "      <td>0.0</td>\n",
              "      <td>0.0</td>\n",
              "      <td>0.0</td>\n",
              "      <td>0.0</td>\n",
              "      <td>0.0</td>\n",
              "      <td>0.0</td>\n",
              "    </tr>\n",
              "    <tr>\n",
              "      <th>4</th>\n",
              "      <td>0.0</td>\n",
              "      <td>0.0</td>\n",
              "      <td>0.0</td>\n",
              "      <td>0.0</td>\n",
              "      <td>0.0</td>\n",
              "      <td>0.0</td>\n",
              "      <td>0.0</td>\n",
              "      <td>0.0</td>\n",
              "      <td>1.0</td>\n",
              "      <td>0.0</td>\n",
              "      <td>0.0</td>\n",
              "      <td>0.0</td>\n",
              "      <td>0.0</td>\n",
              "      <td>0.0</td>\n",
              "      <td>0.0</td>\n",
              "      <td>0.0</td>\n",
              "      <td>0.0</td>\n",
              "      <td>1.0</td>\n",
              "      <td>0.0</td>\n",
              "      <td>0.0</td>\n",
              "      <td>0.0</td>\n",
              "      <td>0.0</td>\n",
              "      <td>0.0</td>\n",
              "      <td>0.0</td>\n",
              "      <td>0.0</td>\n",
              "      <td>0.0</td>\n",
              "      <td>0.0</td>\n",
              "      <td>0.0</td>\n",
              "      <td>0.0</td>\n",
              "      <td>0.0</td>\n",
              "      <td>0.0</td>\n",
              "      <td>0.0</td>\n",
              "      <td>0.0</td>\n",
              "      <td>0.0</td>\n",
              "      <td>0.0</td>\n",
              "      <td>0.0</td>\n",
              "      <td>0.0</td>\n",
              "      <td>0.0</td>\n",
              "      <td>0.0</td>\n",
              "      <td>0.0</td>\n",
              "      <td>0.0</td>\n",
              "      <td>0.0</td>\n",
              "      <td>0.0</td>\n",
              "      <td>0.0</td>\n",
              "      <td>0.0</td>\n",
              "      <td>0.0</td>\n",
              "      <td>0.0</td>\n",
              "      <td>0.0</td>\n",
              "      <td>0.0</td>\n",
              "      <td>0.0</td>\n",
              "      <td>0.0</td>\n",
              "      <td>0.0</td>\n",
              "      <td>0.0</td>\n",
              "      <td>0.0</td>\n",
              "      <td>0.0</td>\n",
              "      <td>0.0</td>\n",
              "      <td>0.0</td>\n",
              "      <td>0.0</td>\n",
              "      <td>0.0</td>\n",
              "      <td>0.0</td>\n",
              "      <td>0.0</td>\n",
              "      <td>0.0</td>\n",
              "      <td>0.0</td>\n",
              "      <td>0.0</td>\n",
              "      <td>0.0</td>\n",
              "      <td>0.0</td>\n",
              "      <td>0.0</td>\n",
              "      <td>0.0</td>\n",
              "      <td>0.0</td>\n",
              "      <td>0.0</td>\n",
              "      <td>0.0</td>\n",
              "      <td>0.0</td>\n",
              "      <td>0.0</td>\n",
              "      <td>0.0</td>\n",
              "      <td>0.0</td>\n",
              "      <td>0.0</td>\n",
              "      <td>0.0</td>\n",
              "      <td>0.0</td>\n",
              "      <td>0.0</td>\n",
              "      <td>0.0</td>\n",
              "    </tr>\n",
              "    <tr>\n",
              "      <th>...</th>\n",
              "      <td>...</td>\n",
              "      <td>...</td>\n",
              "      <td>...</td>\n",
              "      <td>...</td>\n",
              "      <td>...</td>\n",
              "      <td>...</td>\n",
              "      <td>...</td>\n",
              "      <td>...</td>\n",
              "      <td>...</td>\n",
              "      <td>...</td>\n",
              "      <td>...</td>\n",
              "      <td>...</td>\n",
              "      <td>...</td>\n",
              "      <td>...</td>\n",
              "      <td>...</td>\n",
              "      <td>...</td>\n",
              "      <td>...</td>\n",
              "      <td>...</td>\n",
              "      <td>...</td>\n",
              "      <td>...</td>\n",
              "      <td>...</td>\n",
              "      <td>...</td>\n",
              "      <td>...</td>\n",
              "      <td>...</td>\n",
              "      <td>...</td>\n",
              "      <td>...</td>\n",
              "      <td>...</td>\n",
              "      <td>...</td>\n",
              "      <td>...</td>\n",
              "      <td>...</td>\n",
              "      <td>...</td>\n",
              "      <td>...</td>\n",
              "      <td>...</td>\n",
              "      <td>...</td>\n",
              "      <td>...</td>\n",
              "      <td>...</td>\n",
              "      <td>...</td>\n",
              "      <td>...</td>\n",
              "      <td>...</td>\n",
              "      <td>...</td>\n",
              "      <td>...</td>\n",
              "      <td>...</td>\n",
              "      <td>...</td>\n",
              "      <td>...</td>\n",
              "      <td>...</td>\n",
              "      <td>...</td>\n",
              "      <td>...</td>\n",
              "      <td>...</td>\n",
              "      <td>...</td>\n",
              "      <td>...</td>\n",
              "      <td>...</td>\n",
              "      <td>...</td>\n",
              "      <td>...</td>\n",
              "      <td>...</td>\n",
              "      <td>...</td>\n",
              "      <td>...</td>\n",
              "      <td>...</td>\n",
              "      <td>...</td>\n",
              "      <td>...</td>\n",
              "      <td>...</td>\n",
              "      <td>...</td>\n",
              "      <td>...</td>\n",
              "      <td>...</td>\n",
              "      <td>...</td>\n",
              "      <td>...</td>\n",
              "      <td>...</td>\n",
              "      <td>...</td>\n",
              "      <td>...</td>\n",
              "      <td>...</td>\n",
              "      <td>...</td>\n",
              "      <td>...</td>\n",
              "      <td>...</td>\n",
              "      <td>...</td>\n",
              "      <td>...</td>\n",
              "      <td>...</td>\n",
              "      <td>...</td>\n",
              "      <td>...</td>\n",
              "      <td>...</td>\n",
              "      <td>...</td>\n",
              "      <td>...</td>\n",
              "    </tr>\n",
              "    <tr>\n",
              "      <th>938</th>\n",
              "      <td>0.0</td>\n",
              "      <td>0.0</td>\n",
              "      <td>0.0</td>\n",
              "      <td>0.0</td>\n",
              "      <td>0.0</td>\n",
              "      <td>1.0</td>\n",
              "      <td>0.0</td>\n",
              "      <td>0.0</td>\n",
              "      <td>0.0</td>\n",
              "      <td>0.0</td>\n",
              "      <td>0.0</td>\n",
              "      <td>0.0</td>\n",
              "      <td>1.0</td>\n",
              "      <td>0.0</td>\n",
              "      <td>0.0</td>\n",
              "      <td>0.0</td>\n",
              "      <td>0.0</td>\n",
              "      <td>0.0</td>\n",
              "      <td>0.0</td>\n",
              "      <td>0.0</td>\n",
              "      <td>0.0</td>\n",
              "      <td>1.0</td>\n",
              "      <td>0.0</td>\n",
              "      <td>0.0</td>\n",
              "      <td>0.0</td>\n",
              "      <td>0.0</td>\n",
              "      <td>0.0</td>\n",
              "      <td>0.0</td>\n",
              "      <td>0.0</td>\n",
              "      <td>0.0</td>\n",
              "      <td>1.0</td>\n",
              "      <td>0.0</td>\n",
              "      <td>0.0</td>\n",
              "      <td>0.0</td>\n",
              "      <td>1.0</td>\n",
              "      <td>0.0</td>\n",
              "      <td>0.0</td>\n",
              "      <td>0.0</td>\n",
              "      <td>1.0</td>\n",
              "      <td>0.0</td>\n",
              "      <td>0.0</td>\n",
              "      <td>0.0</td>\n",
              "      <td>0.0</td>\n",
              "      <td>0.0</td>\n",
              "      <td>0.0</td>\n",
              "      <td>0.0</td>\n",
              "      <td>0.0</td>\n",
              "      <td>1.0</td>\n",
              "      <td>0.0</td>\n",
              "      <td>0.0</td>\n",
              "      <td>0.0</td>\n",
              "      <td>0.0</td>\n",
              "      <td>0.0</td>\n",
              "      <td>0.0</td>\n",
              "      <td>0.0</td>\n",
              "      <td>0.0</td>\n",
              "      <td>0.0</td>\n",
              "      <td>0.0</td>\n",
              "      <td>0.0</td>\n",
              "      <td>1.0</td>\n",
              "      <td>0.0</td>\n",
              "      <td>0.0</td>\n",
              "      <td>0.0</td>\n",
              "      <td>0.0</td>\n",
              "      <td>0.0</td>\n",
              "      <td>0.0</td>\n",
              "      <td>0.0</td>\n",
              "      <td>0.0</td>\n",
              "      <td>0.0</td>\n",
              "      <td>0.0</td>\n",
              "      <td>0.0</td>\n",
              "      <td>0.0</td>\n",
              "      <td>0.0</td>\n",
              "      <td>0.0</td>\n",
              "      <td>0.0</td>\n",
              "      <td>0.0</td>\n",
              "      <td>0.0</td>\n",
              "      <td>0.0</td>\n",
              "      <td>0.0</td>\n",
              "      <td>0.0</td>\n",
              "    </tr>\n",
              "    <tr>\n",
              "      <th>939</th>\n",
              "      <td>1.0</td>\n",
              "      <td>0.0</td>\n",
              "      <td>0.0</td>\n",
              "      <td>0.0</td>\n",
              "      <td>1.0</td>\n",
              "      <td>0.0</td>\n",
              "      <td>0.0</td>\n",
              "      <td>0.0</td>\n",
              "      <td>1.0</td>\n",
              "      <td>0.0</td>\n",
              "      <td>0.0</td>\n",
              "      <td>1.0</td>\n",
              "      <td>0.0</td>\n",
              "      <td>0.0</td>\n",
              "      <td>0.0</td>\n",
              "      <td>0.0</td>\n",
              "      <td>1.0</td>\n",
              "      <td>0.0</td>\n",
              "      <td>0.0</td>\n",
              "      <td>0.0</td>\n",
              "      <td>0.0</td>\n",
              "      <td>0.0</td>\n",
              "      <td>1.0</td>\n",
              "      <td>0.0</td>\n",
              "      <td>0.0</td>\n",
              "      <td>1.0</td>\n",
              "      <td>0.0</td>\n",
              "      <td>0.0</td>\n",
              "      <td>0.0</td>\n",
              "      <td>1.0</td>\n",
              "      <td>0.0</td>\n",
              "      <td>0.0</td>\n",
              "      <td>0.0</td>\n",
              "      <td>0.0</td>\n",
              "      <td>0.0</td>\n",
              "      <td>0.0</td>\n",
              "      <td>0.0</td>\n",
              "      <td>0.0</td>\n",
              "      <td>0.0</td>\n",
              "      <td>0.0</td>\n",
              "      <td>0.0</td>\n",
              "      <td>1.0</td>\n",
              "      <td>0.0</td>\n",
              "      <td>0.0</td>\n",
              "      <td>0.0</td>\n",
              "      <td>0.0</td>\n",
              "      <td>0.0</td>\n",
              "      <td>0.0</td>\n",
              "      <td>0.0</td>\n",
              "      <td>0.0</td>\n",
              "      <td>0.0</td>\n",
              "      <td>0.0</td>\n",
              "      <td>0.0</td>\n",
              "      <td>0.0</td>\n",
              "      <td>1.0</td>\n",
              "      <td>0.0</td>\n",
              "      <td>0.0</td>\n",
              "      <td>0.0</td>\n",
              "      <td>1.0</td>\n",
              "      <td>0.0</td>\n",
              "      <td>0.0</td>\n",
              "      <td>0.0</td>\n",
              "      <td>0.0</td>\n",
              "      <td>0.0</td>\n",
              "      <td>0.0</td>\n",
              "      <td>0.0</td>\n",
              "      <td>0.0</td>\n",
              "      <td>0.0</td>\n",
              "      <td>0.0</td>\n",
              "      <td>0.0</td>\n",
              "      <td>0.0</td>\n",
              "      <td>0.0</td>\n",
              "      <td>1.0</td>\n",
              "      <td>0.0</td>\n",
              "      <td>0.0</td>\n",
              "      <td>0.0</td>\n",
              "      <td>0.0</td>\n",
              "      <td>0.0</td>\n",
              "      <td>0.0</td>\n",
              "      <td>0.0</td>\n",
              "    </tr>\n",
              "    <tr>\n",
              "      <th>940</th>\n",
              "      <td>0.0</td>\n",
              "      <td>0.0</td>\n",
              "      <td>0.0</td>\n",
              "      <td>0.0</td>\n",
              "      <td>1.0</td>\n",
              "      <td>0.0</td>\n",
              "      <td>0.0</td>\n",
              "      <td>0.0</td>\n",
              "      <td>0.0</td>\n",
              "      <td>0.0</td>\n",
              "      <td>0.0</td>\n",
              "      <td>0.0</td>\n",
              "      <td>0.0</td>\n",
              "      <td>0.0</td>\n",
              "      <td>0.0</td>\n",
              "      <td>0.0</td>\n",
              "      <td>0.0</td>\n",
              "      <td>0.0</td>\n",
              "      <td>0.0</td>\n",
              "      <td>0.0</td>\n",
              "      <td>0.0</td>\n",
              "      <td>0.0</td>\n",
              "      <td>0.0</td>\n",
              "      <td>0.0</td>\n",
              "      <td>0.0</td>\n",
              "      <td>0.0</td>\n",
              "      <td>0.0</td>\n",
              "      <td>0.0</td>\n",
              "      <td>0.0</td>\n",
              "      <td>0.0</td>\n",
              "      <td>0.0</td>\n",
              "      <td>0.0</td>\n",
              "      <td>0.0</td>\n",
              "      <td>0.0</td>\n",
              "      <td>0.0</td>\n",
              "      <td>0.0</td>\n",
              "      <td>0.0</td>\n",
              "      <td>0.0</td>\n",
              "      <td>0.0</td>\n",
              "      <td>0.0</td>\n",
              "      <td>0.0</td>\n",
              "      <td>1.0</td>\n",
              "      <td>0.0</td>\n",
              "      <td>0.0</td>\n",
              "      <td>1.0</td>\n",
              "      <td>0.0</td>\n",
              "      <td>0.0</td>\n",
              "      <td>0.0</td>\n",
              "      <td>0.0</td>\n",
              "      <td>0.0</td>\n",
              "      <td>0.0</td>\n",
              "      <td>0.0</td>\n",
              "      <td>0.0</td>\n",
              "      <td>0.0</td>\n",
              "      <td>0.0</td>\n",
              "      <td>0.0</td>\n",
              "      <td>0.0</td>\n",
              "      <td>0.0</td>\n",
              "      <td>0.0</td>\n",
              "      <td>0.0</td>\n",
              "      <td>0.0</td>\n",
              "      <td>0.0</td>\n",
              "      <td>0.0</td>\n",
              "      <td>0.0</td>\n",
              "      <td>0.0</td>\n",
              "      <td>0.0</td>\n",
              "      <td>0.0</td>\n",
              "      <td>0.0</td>\n",
              "      <td>0.0</td>\n",
              "      <td>0.0</td>\n",
              "      <td>0.0</td>\n",
              "      <td>0.0</td>\n",
              "      <td>0.0</td>\n",
              "      <td>0.0</td>\n",
              "      <td>0.0</td>\n",
              "      <td>0.0</td>\n",
              "      <td>0.0</td>\n",
              "      <td>0.0</td>\n",
              "      <td>0.0</td>\n",
              "      <td>0.0</td>\n",
              "    </tr>\n",
              "    <tr>\n",
              "      <th>941</th>\n",
              "      <td>1.0</td>\n",
              "      <td>1.0</td>\n",
              "      <td>0.0</td>\n",
              "      <td>0.0</td>\n",
              "      <td>0.0</td>\n",
              "      <td>1.0</td>\n",
              "      <td>0.0</td>\n",
              "      <td>0.0</td>\n",
              "      <td>1.0</td>\n",
              "      <td>1.0</td>\n",
              "      <td>0.0</td>\n",
              "      <td>0.0</td>\n",
              "      <td>0.0</td>\n",
              "      <td>0.0</td>\n",
              "      <td>0.0</td>\n",
              "      <td>0.0</td>\n",
              "      <td>1.0</td>\n",
              "      <td>0.0</td>\n",
              "      <td>1.0</td>\n",
              "      <td>0.0</td>\n",
              "      <td>0.0</td>\n",
              "      <td>0.0</td>\n",
              "      <td>0.0</td>\n",
              "      <td>0.0</td>\n",
              "      <td>0.0</td>\n",
              "      <td>1.0</td>\n",
              "      <td>0.0</td>\n",
              "      <td>0.0</td>\n",
              "      <td>0.0</td>\n",
              "      <td>0.0</td>\n",
              "      <td>0.0</td>\n",
              "      <td>0.0</td>\n",
              "      <td>0.0</td>\n",
              "      <td>0.0</td>\n",
              "      <td>1.0</td>\n",
              "      <td>0.0</td>\n",
              "      <td>0.0</td>\n",
              "      <td>0.0</td>\n",
              "      <td>0.0</td>\n",
              "      <td>0.0</td>\n",
              "      <td>0.0</td>\n",
              "      <td>0.0</td>\n",
              "      <td>1.0</td>\n",
              "      <td>0.0</td>\n",
              "      <td>0.0</td>\n",
              "      <td>0.0</td>\n",
              "      <td>0.0</td>\n",
              "      <td>0.0</td>\n",
              "      <td>0.0</td>\n",
              "      <td>0.0</td>\n",
              "      <td>0.0</td>\n",
              "      <td>0.0</td>\n",
              "      <td>0.0</td>\n",
              "      <td>0.0</td>\n",
              "      <td>1.0</td>\n",
              "      <td>0.0</td>\n",
              "      <td>0.0</td>\n",
              "      <td>0.0</td>\n",
              "      <td>0.0</td>\n",
              "      <td>0.0</td>\n",
              "      <td>0.0</td>\n",
              "      <td>1.0</td>\n",
              "      <td>1.0</td>\n",
              "      <td>0.0</td>\n",
              "      <td>0.0</td>\n",
              "      <td>0.0</td>\n",
              "      <td>0.0</td>\n",
              "      <td>0.0</td>\n",
              "      <td>0.0</td>\n",
              "      <td>0.0</td>\n",
              "      <td>0.0</td>\n",
              "      <td>0.0</td>\n",
              "      <td>0.0</td>\n",
              "      <td>0.0</td>\n",
              "      <td>0.0</td>\n",
              "      <td>0.0</td>\n",
              "      <td>0.0</td>\n",
              "      <td>1.0</td>\n",
              "      <td>0.0</td>\n",
              "      <td>0.0</td>\n",
              "    </tr>\n",
              "    <tr>\n",
              "      <th>942</th>\n",
              "      <td>0.0</td>\n",
              "      <td>0.0</td>\n",
              "      <td>0.0</td>\n",
              "      <td>0.0</td>\n",
              "      <td>0.0</td>\n",
              "      <td>0.0</td>\n",
              "      <td>0.0</td>\n",
              "      <td>0.0</td>\n",
              "      <td>0.0</td>\n",
              "      <td>0.0</td>\n",
              "      <td>0.0</td>\n",
              "      <td>0.0</td>\n",
              "      <td>0.0</td>\n",
              "      <td>0.0</td>\n",
              "      <td>0.0</td>\n",
              "      <td>0.0</td>\n",
              "      <td>0.0</td>\n",
              "      <td>0.0</td>\n",
              "      <td>0.0</td>\n",
              "      <td>0.0</td>\n",
              "      <td>0.0</td>\n",
              "      <td>0.0</td>\n",
              "      <td>0.0</td>\n",
              "      <td>0.0</td>\n",
              "      <td>0.0</td>\n",
              "      <td>0.0</td>\n",
              "      <td>0.0</td>\n",
              "      <td>0.0</td>\n",
              "      <td>0.0</td>\n",
              "      <td>0.0</td>\n",
              "      <td>0.0</td>\n",
              "      <td>0.0</td>\n",
              "      <td>0.0</td>\n",
              "      <td>0.0</td>\n",
              "      <td>0.0</td>\n",
              "      <td>0.0</td>\n",
              "      <td>0.0</td>\n",
              "      <td>0.0</td>\n",
              "      <td>0.0</td>\n",
              "      <td>0.0</td>\n",
              "      <td>0.0</td>\n",
              "      <td>0.0</td>\n",
              "      <td>0.0</td>\n",
              "      <td>0.0</td>\n",
              "      <td>0.0</td>\n",
              "      <td>0.0</td>\n",
              "      <td>0.0</td>\n",
              "      <td>0.0</td>\n",
              "      <td>0.0</td>\n",
              "      <td>0.0</td>\n",
              "      <td>0.0</td>\n",
              "      <td>0.0</td>\n",
              "      <td>0.0</td>\n",
              "      <td>0.0</td>\n",
              "      <td>0.0</td>\n",
              "      <td>0.0</td>\n",
              "      <td>0.0</td>\n",
              "      <td>0.0</td>\n",
              "      <td>0.0</td>\n",
              "      <td>0.0</td>\n",
              "      <td>0.0</td>\n",
              "      <td>0.0</td>\n",
              "      <td>0.0</td>\n",
              "      <td>0.0</td>\n",
              "      <td>0.0</td>\n",
              "      <td>0.0</td>\n",
              "      <td>0.0</td>\n",
              "      <td>0.0</td>\n",
              "      <td>0.0</td>\n",
              "      <td>0.0</td>\n",
              "      <td>0.0</td>\n",
              "      <td>0.0</td>\n",
              "      <td>0.0</td>\n",
              "      <td>0.0</td>\n",
              "      <td>0.0</td>\n",
              "      <td>0.0</td>\n",
              "      <td>0.0</td>\n",
              "      <td>0.0</td>\n",
              "      <td>0.0</td>\n",
              "      <td>0.0</td>\n",
              "    </tr>\n",
              "  </tbody>\n",
              "</table>\n",
              "<p>943 rows × 80 columns</p>\n",
              "</div>"
            ],
            "text/plain": [
              "     Zeca Pagodinho  Diogo Nogueira  ...  Katy Perry  Ne-Yo\n",
              "0               0.0             0.0  ...         0.0    0.0\n",
              "1               0.0             0.0  ...         0.0    0.0\n",
              "2               0.0             0.0  ...         0.0    0.0\n",
              "3               0.0             0.0  ...         0.0    0.0\n",
              "4               0.0             0.0  ...         0.0    0.0\n",
              "..              ...             ...  ...         ...    ...\n",
              "938             0.0             0.0  ...         0.0    0.0\n",
              "939             1.0             0.0  ...         0.0    0.0\n",
              "940             0.0             0.0  ...         0.0    0.0\n",
              "941             1.0             1.0  ...         0.0    0.0\n",
              "942             0.0             0.0  ...         0.0    0.0\n",
              "\n",
              "[943 rows x 80 columns]"
            ]
          },
          "metadata": {
            "tags": []
          },
          "execution_count": 21
        }
      ]
    },
    {
      "cell_type": "markdown",
      "metadata": {
        "id": "-zI33VKu8V38"
      },
      "source": [
        "# **Dimension Reduction**"
      ]
    },
    {
      "cell_type": "markdown",
      "metadata": {
        "id": "SNnG0US58cKr"
      },
      "source": [
        "## **Number of Dimensions Decision**"
      ]
    },
    {
      "cell_type": "markdown",
      "metadata": {
        "id": "Z33sWjpwAfzg"
      },
      "source": [
        "First, we'll use SVD with maximum number of dimensions, to select a number of dimensions to reduct."
      ]
    },
    {
      "cell_type": "code",
      "metadata": {
        "id": "feWLKxHssmvd"
      },
      "source": [
        "svd =  TruncatedSVD(n_components = max(music_map))"
      ],
      "execution_count": null,
      "outputs": []
    },
    {
      "cell_type": "code",
      "metadata": {
        "id": "l7R5E50Ds3ID",
        "colab": {
          "base_uri": "https://localhost:8080/"
        },
        "outputId": "cfb3243d-aadd-4934-aa1a-53a5fc257a45"
      },
      "source": [
        "svd.fit(df_data)"
      ],
      "execution_count": null,
      "outputs": [
        {
          "output_type": "execute_result",
          "data": {
            "text/plain": [
              "TruncatedSVD(algorithm='randomized', n_components=79, n_iter=5,\n",
              "             random_state=None, tol=0.0)"
            ]
          },
          "metadata": {
            "tags": []
          },
          "execution_count": 23
        }
      ]
    },
    {
      "cell_type": "code",
      "metadata": {
        "id": "wKebJ2I5tdFb",
        "colab": {
          "base_uri": "https://localhost:8080/"
        },
        "outputId": "9ed6d5ff-085d-41f2-de00-c92b01117506"
      },
      "source": [
        "#Explained variance of each dimension\n",
        "svd.explained_variance_ratio_.round(2)"
      ],
      "execution_count": null,
      "outputs": [
        {
          "output_type": "execute_result",
          "data": {
            "text/plain": [
              "array([0.16, 0.08, 0.04, 0.04, 0.03, 0.03, 0.02, 0.02, 0.02, 0.02, 0.02,\n",
              "       0.02, 0.02, 0.02, 0.02, 0.02, 0.01, 0.01, 0.01, 0.01, 0.01, 0.01,\n",
              "       0.01, 0.01, 0.01, 0.01, 0.01, 0.01, 0.01, 0.01, 0.01, 0.01, 0.01,\n",
              "       0.01, 0.01, 0.01, 0.01, 0.01, 0.01, 0.01, 0.01, 0.01, 0.01, 0.01,\n",
              "       0.01, 0.01, 0.01, 0.01, 0.01, 0.01, 0.01, 0.01, 0.01, 0.01, 0.01,\n",
              "       0.01, 0.01, 0.01, 0.  , 0.  , 0.  , 0.  , 0.  , 0.  , 0.  , 0.  ,\n",
              "       0.  , 0.  , 0.  , 0.  , 0.  , 0.  , 0.  , 0.  , 0.  , 0.  , 0.  ,\n",
              "       0.  , 0.  ])"
            ]
          },
          "metadata": {
            "tags": []
          },
          "execution_count": 24
        }
      ]
    },
    {
      "cell_type": "markdown",
      "metadata": {
        "id": "lejD7Kq0BKfb"
      },
      "source": [
        "Generating the accumulated of explained variance ratio."
      ]
    },
    {
      "cell_type": "code",
      "metadata": {
        "id": "FhsTDvg_ttt5",
        "colab": {
          "base_uri": "https://localhost:8080/",
          "height": 340
        },
        "outputId": "5a26b8d2-3a6f-4948-faf3-bfc38df99653"
      },
      "source": [
        "explained_variance_ratio_acum_ = list([(i-1, svd.explained_variance_ratio_[:i].sum()) for i in range(1, max(music_map)+1)])\n",
        "plt.figure(figsize=(10,5))\n",
        "plt.plot([i for i, r in explained_variance_ratio_acum_], [r for i, r in explained_variance_ratio_acum_], 'b')\n",
        "plt.title('Acummulated Explained Variance Ratio', fontsize=18); \n",
        "plt.show()"
      ],
      "execution_count": null,
      "outputs": [
        {
          "output_type": "display_data",
          "data": {
            "image/png": "[encoded data removed]",
            "text/plain": [
              "<Figure size 720x360 with 1 Axes>"
            ]
          },
          "metadata": {
            "tags": [],
            "needs_background": "light"
          }
        }
      ]
    },
    {
      "cell_type": "markdown",
      "metadata": {
        "id": "tknOPUEKBcoN"
      },
      "source": [
        "As we can see in the follwing cell, 12 dimensions capture 50% of explained variance of all 80 variables (music pages)."
      ]
    },
    {
      "cell_type": "code",
      "metadata": {
        "colab": {
          "base_uri": "https://localhost:8080/",
          "height": 669
        },
        "id": "yW23NQdi7mie",
        "outputId": "f9179082-c468-4c99-dea9-817655c24b3d"
      },
      "source": [
        "pd.DataFrame(explained_variance_ratio_acum_, columns=['variable_index', 'explained_variance_ratio_acum']).head(20)"
      ],
      "execution_count": null,
      "outputs": [
        {
          "output_type": "execute_result",
          "data": {
            "text/html": [
              "<div>\n",
              "<style scoped>\n",
              "    .dataframe tbody tr th:only-of-type {\n",
              "        vertical-align: middle;\n",
              "    }\n",
              "\n",
              "    .dataframe tbody tr th {\n",
              "        vertical-align: top;\n",
              "    }\n",
              "\n",
              "    .dataframe thead th {\n",
              "        text-align: right;\n",
              "    }\n",
              "</style>\n",
              "<table border=\"1\" class=\"dataframe\">\n",
              "  <thead>\n",
              "    <tr style=\"text-align: right;\">\n",
              "      <th></th>\n",
              "      <th>variable_index</th>\n",
              "      <th>explained_variance_ratio_acum</th>\n",
              "    </tr>\n",
              "  </thead>\n",
              "  <tbody>\n",
              "    <tr>\n",
              "      <th>0</th>\n",
              "      <td>0</td>\n",
              "      <td>0.158063</td>\n",
              "    </tr>\n",
              "    <tr>\n",
              "      <th>1</th>\n",
              "      <td>1</td>\n",
              "      <td>0.234723</td>\n",
              "    </tr>\n",
              "    <tr>\n",
              "      <th>2</th>\n",
              "      <td>2</td>\n",
              "      <td>0.274527</td>\n",
              "    </tr>\n",
              "    <tr>\n",
              "      <th>3</th>\n",
              "      <td>3</td>\n",
              "      <td>0.309818</td>\n",
              "    </tr>\n",
              "    <tr>\n",
              "      <th>4</th>\n",
              "      <td>4</td>\n",
              "      <td>0.343457</td>\n",
              "    </tr>\n",
              "    <tr>\n",
              "      <th>5</th>\n",
              "      <td>5</td>\n",
              "      <td>0.370636</td>\n",
              "    </tr>\n",
              "    <tr>\n",
              "      <th>6</th>\n",
              "      <td>6</td>\n",
              "      <td>0.394335</td>\n",
              "    </tr>\n",
              "    <tr>\n",
              "      <th>7</th>\n",
              "      <td>7</td>\n",
              "      <td>0.414910</td>\n",
              "    </tr>\n",
              "    <tr>\n",
              "      <th>8</th>\n",
              "      <td>8</td>\n",
              "      <td>0.434078</td>\n",
              "    </tr>\n",
              "    <tr>\n",
              "      <th>9</th>\n",
              "      <td>9</td>\n",
              "      <td>0.452148</td>\n",
              "    </tr>\n",
              "    <tr>\n",
              "      <th>10</th>\n",
              "      <td>10</td>\n",
              "      <td>0.469713</td>\n",
              "    </tr>\n",
              "    <tr>\n",
              "      <th>11</th>\n",
              "      <td>11</td>\n",
              "      <td>0.486377</td>\n",
              "    </tr>\n",
              "    <tr>\n",
              "      <th>12</th>\n",
              "      <td>12</td>\n",
              "      <td>0.502565</td>\n",
              "    </tr>\n",
              "    <tr>\n",
              "      <th>13</th>\n",
              "      <td>13</td>\n",
              "      <td>0.518147</td>\n",
              "    </tr>\n",
              "    <tr>\n",
              "      <th>14</th>\n",
              "      <td>14</td>\n",
              "      <td>0.533572</td>\n",
              "    </tr>\n",
              "    <tr>\n",
              "      <th>15</th>\n",
              "      <td>15</td>\n",
              "      <td>0.548899</td>\n",
              "    </tr>\n",
              "    <tr>\n",
              "      <th>16</th>\n",
              "      <td>16</td>\n",
              "      <td>0.563237</td>\n",
              "    </tr>\n",
              "    <tr>\n",
              "      <th>17</th>\n",
              "      <td>17</td>\n",
              "      <td>0.577292</td>\n",
              "    </tr>\n",
              "    <tr>\n",
              "      <th>18</th>\n",
              "      <td>18</td>\n",
              "      <td>0.590371</td>\n",
              "    </tr>\n",
              "    <tr>\n",
              "      <th>19</th>\n",
              "      <td>19</td>\n",
              "      <td>0.603285</td>\n",
              "    </tr>\n",
              "  </tbody>\n",
              "</table>\n",
              "</div>"
            ],
            "text/plain": [
              "    variable_index  explained_variance_ratio_acum\n",
              "0                0                       0.158063\n",
              "1                1                       0.234723\n",
              "2                2                       0.274527\n",
              "3                3                       0.309818\n",
              "4                4                       0.343457\n",
              "5                5                       0.370636\n",
              "6                6                       0.394335\n",
              "7                7                       0.414910\n",
              "8                8                       0.434078\n",
              "9                9                       0.452148\n",
              "10              10                       0.469713\n",
              "11              11                       0.486377\n",
              "12              12                       0.502565\n",
              "13              13                       0.518147\n",
              "14              14                       0.533572\n",
              "15              15                       0.548899\n",
              "16              16                       0.563237\n",
              "17              17                       0.577292\n",
              "18              18                       0.590371\n",
              "19              19                       0.603285"
            ]
          },
          "metadata": {
            "tags": []
          },
          "execution_count": 26
        }
      ]
    },
    {
      "cell_type": "markdown",
      "metadata": {
        "id": "JBD3Ucas8vFM"
      },
      "source": [
        "## **Truncated SVD**"
      ]
    },
    {
      "cell_type": "markdown",
      "metadata": {
        "id": "gpxbpPzYBvZj"
      },
      "source": [
        "We'll truncate the number of dimensions in 12."
      ]
    },
    {
      "cell_type": "code",
      "metadata": {
        "id": "Nksu6A_ZuFej",
        "colab": {
          "base_uri": "https://localhost:8080/"
        },
        "outputId": "45dcd1a6-a98a-4bbc-ee6e-3d9688d6b8f6"
      },
      "source": [
        "svd =  TruncatedSVD(n_components = 12)\n",
        "svd.fit(df_data)"
      ],
      "execution_count": null,
      "outputs": [
        {
          "output_type": "execute_result",
          "data": {
            "text/plain": [
              "TruncatedSVD(algorithm='randomized', n_components=12, n_iter=5,\n",
              "             random_state=None, tol=0.0)"
            ]
          },
          "metadata": {
            "tags": []
          },
          "execution_count": 27
        }
      ]
    },
    {
      "cell_type": "code",
      "metadata": {
        "id": "WfSgALrCuwKM",
        "colab": {
          "base_uri": "https://localhost:8080/"
        },
        "outputId": "8c156268-dd6f-4781-f244-c4e2de497d3f"
      },
      "source": [
        "svd.components_.shape"
      ],
      "execution_count": null,
      "outputs": [
        {
          "output_type": "execute_result",
          "data": {
            "text/plain": [
              "(12, 80)"
            ]
          },
          "metadata": {
            "tags": []
          },
          "execution_count": 28
        }
      ]
    },
    {
      "cell_type": "code",
      "metadata": {
        "id": "vCW-UeC4Fo56"
      },
      "source": [
        "scaler = StandardScaler()"
      ],
      "execution_count": null,
      "outputs": []
    },
    {
      "cell_type": "markdown",
      "metadata": {
        "id": "mxmcl9EcCdY_"
      },
      "source": [
        "Transforming the original dataset with 80 observed variables, in order to get a new one with only 12 latent variables (dimensions)."
      ]
    },
    {
      "cell_type": "code",
      "metadata": {
        "id": "Lv0-7v0D0QOB"
      },
      "source": [
        "df_data_new = svd.fit_transform(df_data)\n",
        "df_data_new = scaler.fit_transform(df_data_new)\n",
        "df_data_new = pd.DataFrame(df_data_new, columns=['Dim' + str(c + 1) for c in range(svd.components_.shape[0])])"
      ],
      "execution_count": null,
      "outputs": []
    },
    {
      "cell_type": "markdown",
      "metadata": {
        "id": "pMJcdEoJ84lZ"
      },
      "source": [
        "### **Users Plot on First 2 Dimensions**"
      ]
    },
    {
      "cell_type": "markdown",
      "metadata": {
        "id": "pICpn4dGC0vr"
      },
      "source": [
        "The first 2 dimensions capture 23% of explained variance. In the following graphs we can observe the plot of users in the 2 first dimensions coordenates."
      ]
    },
    {
      "cell_type": "code",
      "metadata": {
        "id": "ut_K7SSH_G82",
        "colab": {
          "base_uri": "https://localhost:8080/",
          "height": 592
        },
        "outputId": "0e2ecb7d-6163-4672-99bb-6e773b5af1e7"
      },
      "source": [
        "N = 50\n",
        "x = df_data_new.Dim1.values\n",
        "y = df_data_new.Dim2.values\n",
        "colors = np.random.rand(len(x))\n",
        "\n",
        "plt.figure(figsize=(20,10))\n",
        "plt.scatter(x, y, c=colors, alpha=0.5)\n",
        "plt.show()"
      ],
      "execution_count": null,
      "outputs": [
        {
          "output_type": "display_data",
          "data": {
            "image/png": "[encoded data removed]",
            "text/plain": [
              "<Figure size 1440x720 with 1 Axes>"
            ]
          },
          "metadata": {
            "tags": [],
            "needs_background": "light"
          }
        }
      ]
    },
    {
      "cell_type": "markdown",
      "metadata": {
        "id": "WPhtTCJx9L0I"
      },
      "source": [
        "### **Music Pages Plot on First 2 Dimensions**"
      ]
    },
    {
      "cell_type": "markdown",
      "metadata": {
        "id": "bAcTmyewEGyu"
      },
      "source": [
        "Similar as seen above, in the following graph we can note the plot of music pages on first 2 dimensions coordenates."
      ]
    },
    {
      "cell_type": "code",
      "metadata": {
        "id": "kFksGj0uBC-Z",
        "colab": {
          "base_uri": "https://localhost:8080/",
          "height": 592
        },
        "outputId": "d34185aa-8208-432f-d3f0-f5402222af88"
      },
      "source": [
        "N = 50\n",
        "x = svd.components_[0]\n",
        "y = svd.components_[1]\n",
        "colors = np.random.rand(len(x))\n",
        "area = (50 * music_df[:80]['count'].values / max(music_df[:80]['count'].values))**2  # 0 to 15 point radii\n",
        "\n",
        "plt.figure(figsize=(20,10))\n",
        "plt.scatter(x, y, s=area, c=colors, alpha=0.5)\n",
        "\n",
        "for i, txt in enumerate(music_df[:80]['page']):\n",
        "    plt.annotate(txt, (x[i], y[i]))\n",
        "\n",
        "plt.show()"
      ],
      "execution_count": null,
      "outputs": [
        {
          "output_type": "display_data",
          "data": {
            "image/png": "[encoded data removed]",
            "text/plain": [
              "<Figure size 1440x720 with 1 Axes>"
            ]
          },
          "metadata": {
            "tags": [],
            "needs_background": "light"
          }
        }
      ]
    },
    {
      "cell_type": "markdown",
      "metadata": {
        "id": "-qroVxzo9atL"
      },
      "source": [
        "### **Dimensions Profiling**"
      ]
    },
    {
      "cell_type": "markdown",
      "metadata": {
        "id": "rtBZRE9aGnWZ"
      },
      "source": [
        "Sorting the top music pages of each dimension, by weights."
      ]
    },
    {
      "cell_type": "code",
      "metadata": {
        "id": "qrfAW9tiBgFM"
      },
      "source": [
        "top_pages_on_dims = [pd.DataFrame(sorted([(music_map[m], c) for m, c in enumerate(svd.components_[c])], key=lambda tup: tup[1])[-10:][::-1], columns=['page', 'weight']) for c in range(svd.components_.shape[0])]"
      ],
      "execution_count": null,
      "outputs": []
    },
    {
      "cell_type": "markdown",
      "metadata": {
        "id": "Qx2fbLT_F2Gc"
      },
      "source": [
        "We can observe that **Dimension 1** captures affinity to **Samba and Pagode style** (Arlindo Cruz, Diego Nogueira, Zeca Pagodinho, Péricles, Turma do Pagode e Exaltasamba), as well as it captures some affinity to **Axé and Pop style** (Ivete Sangalo and Beyoncé, two big popular artists). For simplicity reasons, we'll refer to this dimension as **Samba and Pagode Affinity Dimension**."
      ]
    },
    {
      "cell_type": "code",
      "metadata": {
        "id": "t0z9MQH7EVIS",
        "colab": {
          "base_uri": "https://localhost:8080/",
          "height": 359
        },
        "outputId": "bfca8566-54d0-404f-aeea-2535136c006f"
      },
      "source": [
        "top_pages_on_dims[0] # dim1"
      ],
      "execution_count": null,
      "outputs": [
        {
          "output_type": "execute_result",
          "data": {
            "text/html": [
              "<div>\n",
              "<style scoped>\n",
              "    .dataframe tbody tr th:only-of-type {\n",
              "        vertical-align: middle;\n",
              "    }\n",
              "\n",
              "    .dataframe tbody tr th {\n",
              "        vertical-align: top;\n",
              "    }\n",
              "\n",
              "    .dataframe thead th {\n",
              "        text-align: right;\n",
              "    }\n",
              "</style>\n",
              "<table border=\"1\" class=\"dataframe\">\n",
              "  <thead>\n",
              "    <tr style=\"text-align: right;\">\n",
              "      <th></th>\n",
              "      <th>page</th>\n",
              "      <th>weight</th>\n",
              "    </tr>\n",
              "  </thead>\n",
              "  <tbody>\n",
              "    <tr>\n",
              "      <th>0</th>\n",
              "      <td>Arlindo Cruz</td>\n",
              "      <td>0.217235</td>\n",
              "    </tr>\n",
              "    <tr>\n",
              "      <th>1</th>\n",
              "      <td>Diogo Nogueira</td>\n",
              "      <td>0.210122</td>\n",
              "    </tr>\n",
              "    <tr>\n",
              "      <th>2</th>\n",
              "      <td>Ivete Sangalo</td>\n",
              "      <td>0.208149</td>\n",
              "    </tr>\n",
              "    <tr>\n",
              "      <th>3</th>\n",
              "      <td>Beyoncé</td>\n",
              "      <td>0.189436</td>\n",
              "    </tr>\n",
              "    <tr>\n",
              "      <th>4</th>\n",
              "      <td>Zeca Pagodinho</td>\n",
              "      <td>0.170418</td>\n",
              "    </tr>\n",
              "    <tr>\n",
              "      <th>5</th>\n",
              "      <td>Péricles</td>\n",
              "      <td>0.170295</td>\n",
              "    </tr>\n",
              "    <tr>\n",
              "      <th>6</th>\n",
              "      <td>Turma do Pagode</td>\n",
              "      <td>0.169236</td>\n",
              "    </tr>\n",
              "    <tr>\n",
              "      <th>7</th>\n",
              "      <td>Seu Jorge</td>\n",
              "      <td>0.166552</td>\n",
              "    </tr>\n",
              "    <tr>\n",
              "      <th>8</th>\n",
              "      <td>Adele</td>\n",
              "      <td>0.159722</td>\n",
              "    </tr>\n",
              "    <tr>\n",
              "      <th>9</th>\n",
              "      <td>Exaltasamba</td>\n",
              "      <td>0.158708</td>\n",
              "    </tr>\n",
              "  </tbody>\n",
              "</table>\n",
              "</div>"
            ],
            "text/plain": [
              "              page    weight\n",
              "0     Arlindo Cruz  0.217235\n",
              "1   Diogo Nogueira  0.210122\n",
              "2    Ivete Sangalo  0.208149\n",
              "3          Beyoncé  0.189436\n",
              "4   Zeca Pagodinho  0.170418\n",
              "5         Péricles  0.170295\n",
              "6  Turma do Pagode  0.169236\n",
              "7        Seu Jorge  0.166552\n",
              "8            Adele  0.159722\n",
              "9      Exaltasamba  0.158708"
            ]
          },
          "metadata": {
            "tags": []
          },
          "execution_count": 34
        }
      ]
    },
    {
      "cell_type": "markdown",
      "metadata": {
        "id": "cSVHRrrcIZtl"
      },
      "source": [
        "We can observe that **Dimension 2** captures affinity to **Rock Music style**, we'll refer to it as **Rock Music Affinity Dimension**."
      ]
    },
    {
      "cell_type": "code",
      "metadata": {
        "id": "7SVeNTZgEzDw",
        "colab": {
          "base_uri": "https://localhost:8080/",
          "height": 359
        },
        "outputId": "7a69460b-35e7-49fe-a14f-d73b6b5f62cb"
      },
      "source": [
        "top_pages_on_dims[1] # dim2"
      ],
      "execution_count": null,
      "outputs": [
        {
          "output_type": "execute_result",
          "data": {
            "text/html": [
              "<div>\n",
              "<style scoped>\n",
              "    .dataframe tbody tr th:only-of-type {\n",
              "        vertical-align: middle;\n",
              "    }\n",
              "\n",
              "    .dataframe tbody tr th {\n",
              "        vertical-align: top;\n",
              "    }\n",
              "\n",
              "    .dataframe thead th {\n",
              "        text-align: right;\n",
              "    }\n",
              "</style>\n",
              "<table border=\"1\" class=\"dataframe\">\n",
              "  <thead>\n",
              "    <tr style=\"text-align: right;\">\n",
              "      <th></th>\n",
              "      <th>page</th>\n",
              "      <th>weight</th>\n",
              "    </tr>\n",
              "  </thead>\n",
              "  <tbody>\n",
              "    <tr>\n",
              "      <th>0</th>\n",
              "      <td>Red Hot Chili Peppers</td>\n",
              "      <td>0.233433</td>\n",
              "    </tr>\n",
              "    <tr>\n",
              "      <th>1</th>\n",
              "      <td>The Beatles</td>\n",
              "      <td>0.207898</td>\n",
              "    </tr>\n",
              "    <tr>\n",
              "      <th>2</th>\n",
              "      <td>Foo Fighters</td>\n",
              "      <td>0.202477</td>\n",
              "    </tr>\n",
              "    <tr>\n",
              "      <th>3</th>\n",
              "      <td>Nirvana</td>\n",
              "      <td>0.200148</td>\n",
              "    </tr>\n",
              "    <tr>\n",
              "      <th>4</th>\n",
              "      <td>Guns N' Roses</td>\n",
              "      <td>0.192094</td>\n",
              "    </tr>\n",
              "    <tr>\n",
              "      <th>5</th>\n",
              "      <td>AC/DC</td>\n",
              "      <td>0.190937</td>\n",
              "    </tr>\n",
              "    <tr>\n",
              "      <th>6</th>\n",
              "      <td>Pearl Jam</td>\n",
              "      <td>0.183816</td>\n",
              "    </tr>\n",
              "    <tr>\n",
              "      <th>7</th>\n",
              "      <td>The Doors</td>\n",
              "      <td>0.179785</td>\n",
              "    </tr>\n",
              "    <tr>\n",
              "      <th>8</th>\n",
              "      <td>Metallica</td>\n",
              "      <td>0.175758</td>\n",
              "    </tr>\n",
              "    <tr>\n",
              "      <th>9</th>\n",
              "      <td>U2</td>\n",
              "      <td>0.174229</td>\n",
              "    </tr>\n",
              "  </tbody>\n",
              "</table>\n",
              "</div>"
            ],
            "text/plain": [
              "                    page    weight\n",
              "0  Red Hot Chili Peppers  0.233433\n",
              "1            The Beatles  0.207898\n",
              "2           Foo Fighters  0.202477\n",
              "3                Nirvana  0.200148\n",
              "4          Guns N' Roses  0.192094\n",
              "5                  AC/DC  0.190937\n",
              "6              Pearl Jam  0.183816\n",
              "7              The Doors  0.179785\n",
              "8              Metallica  0.175758\n",
              "9                     U2  0.174229"
            ]
          },
          "metadata": {
            "tags": []
          },
          "execution_count": 35
        }
      ]
    },
    {
      "cell_type": "markdown",
      "metadata": {
        "id": "bJovVVg5Ix0N"
      },
      "source": [
        "We can observe that **Dimension 3** captures affinity to **Classical Samba and MPB style** (Chico Buarque, Tim Maia, Djavan, Cartola, Maria Rita, Marisa Monte), we'll refer to it as **Classical Samba and MPB Affinity Dimension**."
      ]
    },
    {
      "cell_type": "code",
      "metadata": {
        "id": "fr-lrMdoE3Rh",
        "colab": {
          "base_uri": "https://localhost:8080/",
          "height": 359
        },
        "outputId": "974e52b7-9103-4d96-d9c2-50beb9d85920"
      },
      "source": [
        "top_pages_on_dims[2] # dim3"
      ],
      "execution_count": null,
      "outputs": [
        {
          "output_type": "execute_result",
          "data": {
            "text/html": [
              "<div>\n",
              "<style scoped>\n",
              "    .dataframe tbody tr th:only-of-type {\n",
              "        vertical-align: middle;\n",
              "    }\n",
              "\n",
              "    .dataframe tbody tr th {\n",
              "        vertical-align: top;\n",
              "    }\n",
              "\n",
              "    .dataframe thead th {\n",
              "        text-align: right;\n",
              "    }\n",
              "</style>\n",
              "<table border=\"1\" class=\"dataframe\">\n",
              "  <thead>\n",
              "    <tr style=\"text-align: right;\">\n",
              "      <th></th>\n",
              "      <th>page</th>\n",
              "      <th>weight</th>\n",
              "    </tr>\n",
              "  </thead>\n",
              "  <tbody>\n",
              "    <tr>\n",
              "      <th>0</th>\n",
              "      <td>Chico Buarque</td>\n",
              "      <td>0.252564</td>\n",
              "    </tr>\n",
              "    <tr>\n",
              "      <th>1</th>\n",
              "      <td>Tim Maia</td>\n",
              "      <td>0.198140</td>\n",
              "    </tr>\n",
              "    <tr>\n",
              "      <th>2</th>\n",
              "      <td>Djavan</td>\n",
              "      <td>0.195965</td>\n",
              "    </tr>\n",
              "    <tr>\n",
              "      <th>3</th>\n",
              "      <td>Cartola</td>\n",
              "      <td>0.190497</td>\n",
              "    </tr>\n",
              "    <tr>\n",
              "      <th>4</th>\n",
              "      <td>Maria Rita</td>\n",
              "      <td>0.190320</td>\n",
              "    </tr>\n",
              "    <tr>\n",
              "      <th>5</th>\n",
              "      <td>Samba</td>\n",
              "      <td>0.182974</td>\n",
              "    </tr>\n",
              "    <tr>\n",
              "      <th>6</th>\n",
              "      <td>Zeca Pagodinho</td>\n",
              "      <td>0.168056</td>\n",
              "    </tr>\n",
              "    <tr>\n",
              "      <th>7</th>\n",
              "      <td>Criolo</td>\n",
              "      <td>0.159772</td>\n",
              "    </tr>\n",
              "    <tr>\n",
              "      <th>8</th>\n",
              "      <td>Marisa Monte</td>\n",
              "      <td>0.155881</td>\n",
              "    </tr>\n",
              "    <tr>\n",
              "      <th>9</th>\n",
              "      <td>Marvin Gaye</td>\n",
              "      <td>0.143010</td>\n",
              "    </tr>\n",
              "  </tbody>\n",
              "</table>\n",
              "</div>"
            ],
            "text/plain": [
              "             page    weight\n",
              "0   Chico Buarque  0.252564\n",
              "1        Tim Maia  0.198140\n",
              "2          Djavan  0.195965\n",
              "3         Cartola  0.190497\n",
              "4      Maria Rita  0.190320\n",
              "5           Samba  0.182974\n",
              "6  Zeca Pagodinho  0.168056\n",
              "7          Criolo  0.159772\n",
              "8    Marisa Monte  0.155881\n",
              "9     Marvin Gaye  0.143010"
            ]
          },
          "metadata": {
            "tags": []
          },
          "execution_count": 36
        }
      ]
    },
    {
      "cell_type": "markdown",
      "metadata": {
        "id": "B8uN0wTWJg0r"
      },
      "source": [
        "We can observe that **Dimension 4** captures affinity to more diverse styles, like **Sertanejo** (Jorge e Mateus, Fernando e Sorocaba, Paula Fernandes), **Axé** (Ivete Sangalo), **Rock** (The Beatles, U2), we'll refer to this dimension as **Sertanejo, Axé and Rock Affinity Dimension**."
      ]
    },
    {
      "cell_type": "code",
      "metadata": {
        "id": "rtSedbG-E7HT",
        "colab": {
          "base_uri": "https://localhost:8080/",
          "height": 359
        },
        "outputId": "e5b6627c-d04e-4632-eddd-e5e23de94a22"
      },
      "source": [
        "top_pages_on_dims[3] # dim4"
      ],
      "execution_count": null,
      "outputs": [
        {
          "output_type": "execute_result",
          "data": {
            "text/html": [
              "<div>\n",
              "<style scoped>\n",
              "    .dataframe tbody tr th:only-of-type {\n",
              "        vertical-align: middle;\n",
              "    }\n",
              "\n",
              "    .dataframe tbody tr th {\n",
              "        vertical-align: top;\n",
              "    }\n",
              "\n",
              "    .dataframe thead th {\n",
              "        text-align: right;\n",
              "    }\n",
              "</style>\n",
              "<table border=\"1\" class=\"dataframe\">\n",
              "  <thead>\n",
              "    <tr style=\"text-align: right;\">\n",
              "      <th></th>\n",
              "      <th>page</th>\n",
              "      <th>weight</th>\n",
              "    </tr>\n",
              "  </thead>\n",
              "  <tbody>\n",
              "    <tr>\n",
              "      <th>0</th>\n",
              "      <td>Ivete Sangalo</td>\n",
              "      <td>0.330010</td>\n",
              "    </tr>\n",
              "    <tr>\n",
              "      <th>1</th>\n",
              "      <td>Jorge &amp; Mateus</td>\n",
              "      <td>0.253732</td>\n",
              "    </tr>\n",
              "    <tr>\n",
              "      <th>2</th>\n",
              "      <td>Jorge e Mateus</td>\n",
              "      <td>0.251318</td>\n",
              "    </tr>\n",
              "    <tr>\n",
              "      <th>3</th>\n",
              "      <td>Diogo Nogueira</td>\n",
              "      <td>0.250797</td>\n",
              "    </tr>\n",
              "    <tr>\n",
              "      <th>4</th>\n",
              "      <td>Fernando e Sorocaba</td>\n",
              "      <td>0.177599</td>\n",
              "    </tr>\n",
              "    <tr>\n",
              "      <th>5</th>\n",
              "      <td>The Beatles</td>\n",
              "      <td>0.157092</td>\n",
              "    </tr>\n",
              "    <tr>\n",
              "      <th>6</th>\n",
              "      <td>Paula Fernandes</td>\n",
              "      <td>0.120827</td>\n",
              "    </tr>\n",
              "    <tr>\n",
              "      <th>7</th>\n",
              "      <td>U2</td>\n",
              "      <td>0.117750</td>\n",
              "    </tr>\n",
              "    <tr>\n",
              "      <th>8</th>\n",
              "      <td>Sambô</td>\n",
              "      <td>0.105092</td>\n",
              "    </tr>\n",
              "    <tr>\n",
              "      <th>9</th>\n",
              "      <td>Chico Buarque</td>\n",
              "      <td>0.096631</td>\n",
              "    </tr>\n",
              "  </tbody>\n",
              "</table>\n",
              "</div>"
            ],
            "text/plain": [
              "                  page    weight\n",
              "0        Ivete Sangalo  0.330010\n",
              "1       Jorge & Mateus  0.253732\n",
              "2       Jorge e Mateus  0.251318\n",
              "3       Diogo Nogueira  0.250797\n",
              "4  Fernando e Sorocaba  0.177599\n",
              "5          The Beatles  0.157092\n",
              "6      Paula Fernandes  0.120827\n",
              "7                   U2  0.117750\n",
              "8                Sambô  0.105092\n",
              "9        Chico Buarque  0.096631"
            ]
          },
          "metadata": {
            "tags": []
          },
          "execution_count": 37
        }
      ]
    },
    {
      "cell_type": "markdown",
      "metadata": {
        "id": "EOYTDt0nKdi8"
      },
      "source": [
        "We can observe that **Dimension 5** captures affinity to very ecletic styles, we can note **Reggae** (Bob Marley), **Pagode** (Péricles, Turma do Pagode), **Rock** (Nirvana, The Doors, Metallica), **Urban** (Marcelo D2, O Rappa) and **Samba** (Arlindo Cruz) styles, we'll refer to this dimension as **Ecletic: Reggae, Pagode, Samba, Rock and Urban Affinity Dimension**."
      ]
    },
    {
      "cell_type": "code",
      "metadata": {
        "id": "Ss0uyjsLE9u5",
        "colab": {
          "base_uri": "https://localhost:8080/",
          "height": 359
        },
        "outputId": "e32bbbf5-a6c2-460b-b580-78770e49e847"
      },
      "source": [
        "top_pages_on_dims[4] # dim5"
      ],
      "execution_count": null,
      "outputs": [
        {
          "output_type": "execute_result",
          "data": {
            "text/html": [
              "<div>\n",
              "<style scoped>\n",
              "    .dataframe tbody tr th:only-of-type {\n",
              "        vertical-align: middle;\n",
              "    }\n",
              "\n",
              "    .dataframe tbody tr th {\n",
              "        vertical-align: top;\n",
              "    }\n",
              "\n",
              "    .dataframe thead th {\n",
              "        text-align: right;\n",
              "    }\n",
              "</style>\n",
              "<table border=\"1\" class=\"dataframe\">\n",
              "  <thead>\n",
              "    <tr style=\"text-align: right;\">\n",
              "      <th></th>\n",
              "      <th>page</th>\n",
              "      <th>weight</th>\n",
              "    </tr>\n",
              "  </thead>\n",
              "  <tbody>\n",
              "    <tr>\n",
              "      <th>0</th>\n",
              "      <td>Bob Marley</td>\n",
              "      <td>0.240080</td>\n",
              "    </tr>\n",
              "    <tr>\n",
              "      <th>1</th>\n",
              "      <td>Péricles</td>\n",
              "      <td>0.179989</td>\n",
              "    </tr>\n",
              "    <tr>\n",
              "      <th>2</th>\n",
              "      <td>Pretinho do Poder</td>\n",
              "      <td>0.160057</td>\n",
              "    </tr>\n",
              "    <tr>\n",
              "      <th>3</th>\n",
              "      <td>Nirvana</td>\n",
              "      <td>0.159813</td>\n",
              "    </tr>\n",
              "    <tr>\n",
              "      <th>4</th>\n",
              "      <td>Turma do Pagode</td>\n",
              "      <td>0.159118</td>\n",
              "    </tr>\n",
              "    <tr>\n",
              "      <th>5</th>\n",
              "      <td>Marcelo D2</td>\n",
              "      <td>0.157690</td>\n",
              "    </tr>\n",
              "    <tr>\n",
              "      <th>6</th>\n",
              "      <td>O Rappa</td>\n",
              "      <td>0.157473</td>\n",
              "    </tr>\n",
              "    <tr>\n",
              "      <th>7</th>\n",
              "      <td>The Doors</td>\n",
              "      <td>0.148933</td>\n",
              "    </tr>\n",
              "    <tr>\n",
              "      <th>8</th>\n",
              "      <td>Arlindo Cruz</td>\n",
              "      <td>0.147082</td>\n",
              "    </tr>\n",
              "    <tr>\n",
              "      <th>9</th>\n",
              "      <td>Metallica</td>\n",
              "      <td>0.143373</td>\n",
              "    </tr>\n",
              "  </tbody>\n",
              "</table>\n",
              "</div>"
            ],
            "text/plain": [
              "                page    weight\n",
              "0         Bob Marley  0.240080\n",
              "1           Péricles  0.179989\n",
              "2  Pretinho do Poder  0.160057\n",
              "3            Nirvana  0.159813\n",
              "4    Turma do Pagode  0.159118\n",
              "5         Marcelo D2  0.157690\n",
              "6            O Rappa  0.157473\n",
              "7          The Doors  0.148933\n",
              "8       Arlindo Cruz  0.147082\n",
              "9          Metallica  0.143373"
            ]
          },
          "metadata": {
            "tags": []
          },
          "execution_count": 38
        }
      ]
    },
    {
      "cell_type": "markdown",
      "metadata": {
        "id": "QgBPT3EWMLc0"
      },
      "source": [
        "We can observe that **Dimension 6** captures affinity to **Urban and Rap style** (O Rappa, Marcelo D2, Charlie Brown Jr, Racionais MC's, Criolo, Emicida, Projota), we'll refer to it as **Urban and Rap Affinity Dimension**."
      ]
    },
    {
      "cell_type": "code",
      "metadata": {
        "id": "CkLDEzSbFB1W",
        "colab": {
          "base_uri": "https://localhost:8080/",
          "height": 359
        },
        "outputId": "84f73797-d2ec-42ce-e624-410cbee57a9d"
      },
      "source": [
        "top_pages_on_dims[5] # dim6"
      ],
      "execution_count": null,
      "outputs": [
        {
          "output_type": "execute_result",
          "data": {
            "text/html": [
              "<div>\n",
              "<style scoped>\n",
              "    .dataframe tbody tr th:only-of-type {\n",
              "        vertical-align: middle;\n",
              "    }\n",
              "\n",
              "    .dataframe tbody tr th {\n",
              "        vertical-align: top;\n",
              "    }\n",
              "\n",
              "    .dataframe thead th {\n",
              "        text-align: right;\n",
              "    }\n",
              "</style>\n",
              "<table border=\"1\" class=\"dataframe\">\n",
              "  <thead>\n",
              "    <tr style=\"text-align: right;\">\n",
              "      <th></th>\n",
              "      <th>page</th>\n",
              "      <th>weight</th>\n",
              "    </tr>\n",
              "  </thead>\n",
              "  <tbody>\n",
              "    <tr>\n",
              "      <th>0</th>\n",
              "      <td>O Rappa</td>\n",
              "      <td>0.265768</td>\n",
              "    </tr>\n",
              "    <tr>\n",
              "      <th>1</th>\n",
              "      <td>Marcelo D2</td>\n",
              "      <td>0.259269</td>\n",
              "    </tr>\n",
              "    <tr>\n",
              "      <th>2</th>\n",
              "      <td>Charlie Brown Jr.</td>\n",
              "      <td>0.237589</td>\n",
              "    </tr>\n",
              "    <tr>\n",
              "      <th>3</th>\n",
              "      <td>Bob Marley</td>\n",
              "      <td>0.164792</td>\n",
              "    </tr>\n",
              "    <tr>\n",
              "      <th>4</th>\n",
              "      <td>Sambô</td>\n",
              "      <td>0.160649</td>\n",
              "    </tr>\n",
              "    <tr>\n",
              "      <th>5</th>\n",
              "      <td>Racionais MC's</td>\n",
              "      <td>0.159064</td>\n",
              "    </tr>\n",
              "    <tr>\n",
              "      <th>6</th>\n",
              "      <td>Criolo</td>\n",
              "      <td>0.157968</td>\n",
              "    </tr>\n",
              "    <tr>\n",
              "      <th>7</th>\n",
              "      <td>Emicida</td>\n",
              "      <td>0.142025</td>\n",
              "    </tr>\n",
              "    <tr>\n",
              "      <th>8</th>\n",
              "      <td>Projota</td>\n",
              "      <td>0.124321</td>\n",
              "    </tr>\n",
              "    <tr>\n",
              "      <th>9</th>\n",
              "      <td>David Guetta</td>\n",
              "      <td>0.119801</td>\n",
              "    </tr>\n",
              "  </tbody>\n",
              "</table>\n",
              "</div>"
            ],
            "text/plain": [
              "                page    weight\n",
              "0            O Rappa  0.265768\n",
              "1         Marcelo D2  0.259269\n",
              "2  Charlie Brown Jr.  0.237589\n",
              "3         Bob Marley  0.164792\n",
              "4              Sambô  0.160649\n",
              "5     Racionais MC's  0.159064\n",
              "6             Criolo  0.157968\n",
              "7            Emicida  0.142025\n",
              "8            Projota  0.124321\n",
              "9       David Guetta  0.119801"
            ]
          },
          "metadata": {
            "tags": []
          },
          "execution_count": 39
        }
      ]
    },
    {
      "cell_type": "markdown",
      "metadata": {
        "id": "tzimH6-fNRWR"
      },
      "source": [
        "We can observe that **Dimension 7** also captures affinity to diverse styles, but we can outline **Pagode** (Turma do Pagode, Cantor Mumuzinho, Thiaguinho, Bom Gosto), **MPB** (Chico Buarque, Marisa Monte) and **Rap** (Criolo, Emicida), we'll refer to this dimension as **Pagode, MPB and Rap Affinity Dimension**."
      ]
    },
    {
      "cell_type": "code",
      "metadata": {
        "id": "aPPUgESiFFAM",
        "colab": {
          "base_uri": "https://localhost:8080/",
          "height": 359
        },
        "outputId": "5c6bee95-262f-4dbe-ca0f-b6cc163f3658"
      },
      "source": [
        "top_pages_on_dims[6] # dim7"
      ],
      "execution_count": null,
      "outputs": [
        {
          "output_type": "execute_result",
          "data": {
            "text/html": [
              "<div>\n",
              "<style scoped>\n",
              "    .dataframe tbody tr th:only-of-type {\n",
              "        vertical-align: middle;\n",
              "    }\n",
              "\n",
              "    .dataframe tbody tr th {\n",
              "        vertical-align: top;\n",
              "    }\n",
              "\n",
              "    .dataframe thead th {\n",
              "        text-align: right;\n",
              "    }\n",
              "</style>\n",
              "<table border=\"1\" class=\"dataframe\">\n",
              "  <thead>\n",
              "    <tr style=\"text-align: right;\">\n",
              "      <th></th>\n",
              "      <th>page</th>\n",
              "      <th>weight</th>\n",
              "    </tr>\n",
              "  </thead>\n",
              "  <tbody>\n",
              "    <tr>\n",
              "      <th>0</th>\n",
              "      <td>Turma do Pagode</td>\n",
              "      <td>0.253058</td>\n",
              "    </tr>\n",
              "    <tr>\n",
              "      <th>1</th>\n",
              "      <td>Pretinho do Poder</td>\n",
              "      <td>0.218235</td>\n",
              "    </tr>\n",
              "    <tr>\n",
              "      <th>2</th>\n",
              "      <td>Cantor Mumuzinho</td>\n",
              "      <td>0.185993</td>\n",
              "    </tr>\n",
              "    <tr>\n",
              "      <th>3</th>\n",
              "      <td>Chico Buarque</td>\n",
              "      <td>0.175871</td>\n",
              "    </tr>\n",
              "    <tr>\n",
              "      <th>4</th>\n",
              "      <td>Criolo</td>\n",
              "      <td>0.170022</td>\n",
              "    </tr>\n",
              "    <tr>\n",
              "      <th>5</th>\n",
              "      <td>Amy Winehouse</td>\n",
              "      <td>0.168990</td>\n",
              "    </tr>\n",
              "    <tr>\n",
              "      <th>6</th>\n",
              "      <td>Marisa Monte</td>\n",
              "      <td>0.152846</td>\n",
              "    </tr>\n",
              "    <tr>\n",
              "      <th>7</th>\n",
              "      <td>Emicida</td>\n",
              "      <td>0.141372</td>\n",
              "    </tr>\n",
              "    <tr>\n",
              "      <th>8</th>\n",
              "      <td>Thiaguinho</td>\n",
              "      <td>0.140737</td>\n",
              "    </tr>\n",
              "    <tr>\n",
              "      <th>9</th>\n",
              "      <td>Bom Gosto</td>\n",
              "      <td>0.139691</td>\n",
              "    </tr>\n",
              "  </tbody>\n",
              "</table>\n",
              "</div>"
            ],
            "text/plain": [
              "                page    weight\n",
              "0    Turma do Pagode  0.253058\n",
              "1  Pretinho do Poder  0.218235\n",
              "2   Cantor Mumuzinho  0.185993\n",
              "3      Chico Buarque  0.175871\n",
              "4             Criolo  0.170022\n",
              "5      Amy Winehouse  0.168990\n",
              "6       Marisa Monte  0.152846\n",
              "7            Emicida  0.141372\n",
              "8         Thiaguinho  0.140737\n",
              "9          Bom Gosto  0.139691"
            ]
          },
          "metadata": {
            "tags": []
          },
          "execution_count": 40
        }
      ]
    },
    {
      "cell_type": "markdown",
      "metadata": {
        "id": "XsHjBqgAO8j1"
      },
      "source": [
        "From **Dimension 8 to 12**, it starts not getting so clear to identify and name the styles. We'll refer this dimensions only as its numbers."
      ]
    },
    {
      "cell_type": "markdown",
      "metadata": {
        "id": "yDZ2ILDmQXGV"
      },
      "source": [
        "**Dimension 8**"
      ]
    },
    {
      "cell_type": "code",
      "metadata": {
        "id": "WwVylecZFH_O",
        "colab": {
          "base_uri": "https://localhost:8080/",
          "height": 359
        },
        "outputId": "efe994c7-5fff-4480-956f-01108628aa5a"
      },
      "source": [
        "top_pages_on_dims[7] # dim8"
      ],
      "execution_count": null,
      "outputs": [
        {
          "output_type": "execute_result",
          "data": {
            "text/html": [
              "<div>\n",
              "<style scoped>\n",
              "    .dataframe tbody tr th:only-of-type {\n",
              "        vertical-align: middle;\n",
              "    }\n",
              "\n",
              "    .dataframe tbody tr th {\n",
              "        vertical-align: top;\n",
              "    }\n",
              "\n",
              "    .dataframe thead th {\n",
              "        text-align: right;\n",
              "    }\n",
              "</style>\n",
              "<table border=\"1\" class=\"dataframe\">\n",
              "  <thead>\n",
              "    <tr style=\"text-align: right;\">\n",
              "      <th></th>\n",
              "      <th>page</th>\n",
              "      <th>weight</th>\n",
              "    </tr>\n",
              "  </thead>\n",
              "  <tbody>\n",
              "    <tr>\n",
              "      <th>0</th>\n",
              "      <td>Adele</td>\n",
              "      <td>0.479083</td>\n",
              "    </tr>\n",
              "    <tr>\n",
              "      <th>1</th>\n",
              "      <td>Arlindo Cruz</td>\n",
              "      <td>0.255233</td>\n",
              "    </tr>\n",
              "    <tr>\n",
              "      <th>2</th>\n",
              "      <td>Cazuza</td>\n",
              "      <td>0.198628</td>\n",
              "    </tr>\n",
              "    <tr>\n",
              "      <th>3</th>\n",
              "      <td>Charlie Brown Jr.</td>\n",
              "      <td>0.180872</td>\n",
              "    </tr>\n",
              "    <tr>\n",
              "      <th>4</th>\n",
              "      <td>The Beatles</td>\n",
              "      <td>0.175049</td>\n",
              "    </tr>\n",
              "    <tr>\n",
              "      <th>5</th>\n",
              "      <td>Bruno Mars</td>\n",
              "      <td>0.151319</td>\n",
              "    </tr>\n",
              "    <tr>\n",
              "      <th>6</th>\n",
              "      <td>BATERIA RITMO PURO RITMISTAS CARNAVAL 2012</td>\n",
              "      <td>0.148008</td>\n",
              "    </tr>\n",
              "    <tr>\n",
              "      <th>7</th>\n",
              "      <td>Pretinho do Poder</td>\n",
              "      <td>0.128652</td>\n",
              "    </tr>\n",
              "    <tr>\n",
              "      <th>8</th>\n",
              "      <td>Bruno Ribas</td>\n",
              "      <td>0.115974</td>\n",
              "    </tr>\n",
              "    <tr>\n",
              "      <th>9</th>\n",
              "      <td>Turma do Pagode</td>\n",
              "      <td>0.112964</td>\n",
              "    </tr>\n",
              "  </tbody>\n",
              "</table>\n",
              "</div>"
            ],
            "text/plain": [
              "                                         page    weight\n",
              "0                                       Adele  0.479083\n",
              "1                                Arlindo Cruz  0.255233\n",
              "2                                      Cazuza  0.198628\n",
              "3                           Charlie Brown Jr.  0.180872\n",
              "4                                 The Beatles  0.175049\n",
              "5                                  Bruno Mars  0.151319\n",
              "6  BATERIA RITMO PURO RITMISTAS CARNAVAL 2012  0.148008\n",
              "7                           Pretinho do Poder  0.128652\n",
              "8                                 Bruno Ribas  0.115974\n",
              "9                             Turma do Pagode  0.112964"
            ]
          },
          "metadata": {
            "tags": []
          },
          "execution_count": 41
        }
      ]
    },
    {
      "cell_type": "markdown",
      "metadata": {
        "id": "b7pnUEMNQa-4"
      },
      "source": [
        "**Dimension 9**"
      ]
    },
    {
      "cell_type": "code",
      "metadata": {
        "id": "HYAf0w66FJ6r",
        "colab": {
          "base_uri": "https://localhost:8080/",
          "height": 359
        },
        "outputId": "7805a2bc-e50a-4ab4-f848-27a7f46033c7"
      },
      "source": [
        "top_pages_on_dims[8] # dim9"
      ],
      "execution_count": null,
      "outputs": [
        {
          "output_type": "execute_result",
          "data": {
            "text/html": [
              "<div>\n",
              "<style scoped>\n",
              "    .dataframe tbody tr th:only-of-type {\n",
              "        vertical-align: middle;\n",
              "    }\n",
              "\n",
              "    .dataframe tbody tr th {\n",
              "        vertical-align: top;\n",
              "    }\n",
              "\n",
              "    .dataframe thead th {\n",
              "        text-align: right;\n",
              "    }\n",
              "</style>\n",
              "<table border=\"1\" class=\"dataframe\">\n",
              "  <thead>\n",
              "    <tr style=\"text-align: right;\">\n",
              "      <th></th>\n",
              "      <th>page</th>\n",
              "      <th>weight</th>\n",
              "    </tr>\n",
              "  </thead>\n",
              "  <tbody>\n",
              "    <tr>\n",
              "      <th>0</th>\n",
              "      <td>Seu Jorge</td>\n",
              "      <td>0.309677</td>\n",
              "    </tr>\n",
              "    <tr>\n",
              "      <th>1</th>\n",
              "      <td>Jorge e Mateus</td>\n",
              "      <td>0.228230</td>\n",
              "    </tr>\n",
              "    <tr>\n",
              "      <th>2</th>\n",
              "      <td>David Guetta</td>\n",
              "      <td>0.215215</td>\n",
              "    </tr>\n",
              "    <tr>\n",
              "      <th>3</th>\n",
              "      <td>Fernando e Sorocaba</td>\n",
              "      <td>0.157021</td>\n",
              "    </tr>\n",
              "    <tr>\n",
              "      <th>4</th>\n",
              "      <td>Jorge &amp; Mateus</td>\n",
              "      <td>0.148496</td>\n",
              "    </tr>\n",
              "    <tr>\n",
              "      <th>5</th>\n",
              "      <td>Exaltasamba</td>\n",
              "      <td>0.141413</td>\n",
              "    </tr>\n",
              "    <tr>\n",
              "      <th>6</th>\n",
              "      <td>Djavan</td>\n",
              "      <td>0.132928</td>\n",
              "    </tr>\n",
              "    <tr>\n",
              "      <th>7</th>\n",
              "      <td>Diogo Nogueira</td>\n",
              "      <td>0.131109</td>\n",
              "    </tr>\n",
              "    <tr>\n",
              "      <th>8</th>\n",
              "      <td>Michael Jackson</td>\n",
              "      <td>0.127650</td>\n",
              "    </tr>\n",
              "    <tr>\n",
              "      <th>9</th>\n",
              "      <td>Arlindo Cruz</td>\n",
              "      <td>0.103858</td>\n",
              "    </tr>\n",
              "  </tbody>\n",
              "</table>\n",
              "</div>"
            ],
            "text/plain": [
              "                  page    weight\n",
              "0            Seu Jorge  0.309677\n",
              "1       Jorge e Mateus  0.228230\n",
              "2         David Guetta  0.215215\n",
              "3  Fernando e Sorocaba  0.157021\n",
              "4       Jorge & Mateus  0.148496\n",
              "5          Exaltasamba  0.141413\n",
              "6               Djavan  0.132928\n",
              "7       Diogo Nogueira  0.131109\n",
              "8      Michael Jackson  0.127650\n",
              "9         Arlindo Cruz  0.103858"
            ]
          },
          "metadata": {
            "tags": []
          },
          "execution_count": 42
        }
      ]
    },
    {
      "cell_type": "markdown",
      "metadata": {
        "id": "VIMaQ6wgQfx5"
      },
      "source": [
        "**Dimension 10**"
      ]
    },
    {
      "cell_type": "code",
      "metadata": {
        "id": "KuDJEBdVFNeU",
        "colab": {
          "base_uri": "https://localhost:8080/",
          "height": 359
        },
        "outputId": "630a055c-6d08-407d-be5c-059088644c01"
      },
      "source": [
        "top_pages_on_dims[9] # dim10"
      ],
      "execution_count": null,
      "outputs": [
        {
          "output_type": "execute_result",
          "data": {
            "text/html": [
              "<div>\n",
              "<style scoped>\n",
              "    .dataframe tbody tr th:only-of-type {\n",
              "        vertical-align: middle;\n",
              "    }\n",
              "\n",
              "    .dataframe tbody tr th {\n",
              "        vertical-align: top;\n",
              "    }\n",
              "\n",
              "    .dataframe thead th {\n",
              "        text-align: right;\n",
              "    }\n",
              "</style>\n",
              "<table border=\"1\" class=\"dataframe\">\n",
              "  <thead>\n",
              "    <tr style=\"text-align: right;\">\n",
              "      <th></th>\n",
              "      <th>page</th>\n",
              "      <th>weight</th>\n",
              "    </tr>\n",
              "  </thead>\n",
              "  <tbody>\n",
              "    <tr>\n",
              "      <th>0</th>\n",
              "      <td>Diogo Nogueira</td>\n",
              "      <td>0.285145</td>\n",
              "    </tr>\n",
              "    <tr>\n",
              "      <th>1</th>\n",
              "      <td>Adele</td>\n",
              "      <td>0.180803</td>\n",
              "    </tr>\n",
              "    <tr>\n",
              "      <th>2</th>\n",
              "      <td>Pretinho do Poder</td>\n",
              "      <td>0.161581</td>\n",
              "    </tr>\n",
              "    <tr>\n",
              "      <th>3</th>\n",
              "      <td>Bob Marley</td>\n",
              "      <td>0.154017</td>\n",
              "    </tr>\n",
              "    <tr>\n",
              "      <th>4</th>\n",
              "      <td>Ivete Sangalo</td>\n",
              "      <td>0.136929</td>\n",
              "    </tr>\n",
              "    <tr>\n",
              "      <th>5</th>\n",
              "      <td>Alicia Keys</td>\n",
              "      <td>0.107989</td>\n",
              "    </tr>\n",
              "    <tr>\n",
              "      <th>6</th>\n",
              "      <td>O Rappa</td>\n",
              "      <td>0.104267</td>\n",
              "    </tr>\n",
              "    <tr>\n",
              "      <th>7</th>\n",
              "      <td>Beyoncé</td>\n",
              "      <td>0.102199</td>\n",
              "    </tr>\n",
              "    <tr>\n",
              "      <th>8</th>\n",
              "      <td>Maria Gadu</td>\n",
              "      <td>0.091805</td>\n",
              "    </tr>\n",
              "    <tr>\n",
              "      <th>9</th>\n",
              "      <td>Maria Rita</td>\n",
              "      <td>0.090035</td>\n",
              "    </tr>\n",
              "  </tbody>\n",
              "</table>\n",
              "</div>"
            ],
            "text/plain": [
              "                page    weight\n",
              "0     Diogo Nogueira  0.285145\n",
              "1              Adele  0.180803\n",
              "2  Pretinho do Poder  0.161581\n",
              "3         Bob Marley  0.154017\n",
              "4      Ivete Sangalo  0.136929\n",
              "5        Alicia Keys  0.107989\n",
              "6            O Rappa  0.104267\n",
              "7            Beyoncé  0.102199\n",
              "8         Maria Gadu  0.091805\n",
              "9         Maria Rita  0.090035"
            ]
          },
          "metadata": {
            "tags": []
          },
          "execution_count": 43
        }
      ]
    },
    {
      "cell_type": "markdown",
      "metadata": {
        "id": "YVM3WPmkQi59"
      },
      "source": [
        "**Dimension 11**"
      ]
    },
    {
      "cell_type": "code",
      "metadata": {
        "id": "RtB7_O3AFQBs",
        "colab": {
          "base_uri": "https://localhost:8080/",
          "height": 359
        },
        "outputId": "4d158e78-cbfd-408d-8666-5a8473b82b9a"
      },
      "source": [
        "top_pages_on_dims[10] # dim11"
      ],
      "execution_count": null,
      "outputs": [
        {
          "output_type": "execute_result",
          "data": {
            "text/html": [
              "<div>\n",
              "<style scoped>\n",
              "    .dataframe tbody tr th:only-of-type {\n",
              "        vertical-align: middle;\n",
              "    }\n",
              "\n",
              "    .dataframe tbody tr th {\n",
              "        vertical-align: top;\n",
              "    }\n",
              "\n",
              "    .dataframe thead th {\n",
              "        text-align: right;\n",
              "    }\n",
              "</style>\n",
              "<table border=\"1\" class=\"dataframe\">\n",
              "  <thead>\n",
              "    <tr style=\"text-align: right;\">\n",
              "      <th></th>\n",
              "      <th>page</th>\n",
              "      <th>weight</th>\n",
              "    </tr>\n",
              "  </thead>\n",
              "  <tbody>\n",
              "    <tr>\n",
              "      <th>0</th>\n",
              "      <td>Samba</td>\n",
              "      <td>0.346991</td>\n",
              "    </tr>\n",
              "    <tr>\n",
              "      <th>1</th>\n",
              "      <td>Seu Jorge</td>\n",
              "      <td>0.322631</td>\n",
              "    </tr>\n",
              "    <tr>\n",
              "      <th>2</th>\n",
              "      <td>Beyoncé</td>\n",
              "      <td>0.218195</td>\n",
              "    </tr>\n",
              "    <tr>\n",
              "      <th>3</th>\n",
              "      <td>AC/DC</td>\n",
              "      <td>0.177673</td>\n",
              "    </tr>\n",
              "    <tr>\n",
              "      <th>4</th>\n",
              "      <td>Emicida</td>\n",
              "      <td>0.160938</td>\n",
              "    </tr>\n",
              "    <tr>\n",
              "      <th>5</th>\n",
              "      <td>Adele</td>\n",
              "      <td>0.160733</td>\n",
              "    </tr>\n",
              "    <tr>\n",
              "      <th>6</th>\n",
              "      <td>Foo Fighters</td>\n",
              "      <td>0.155049</td>\n",
              "    </tr>\n",
              "    <tr>\n",
              "      <th>7</th>\n",
              "      <td>Nirvana</td>\n",
              "      <td>0.140286</td>\n",
              "    </tr>\n",
              "    <tr>\n",
              "      <th>8</th>\n",
              "      <td>O Rappa</td>\n",
              "      <td>0.133560</td>\n",
              "    </tr>\n",
              "    <tr>\n",
              "      <th>9</th>\n",
              "      <td>Jorge e Mateus</td>\n",
              "      <td>0.126695</td>\n",
              "    </tr>\n",
              "  </tbody>\n",
              "</table>\n",
              "</div>"
            ],
            "text/plain": [
              "             page    weight\n",
              "0           Samba  0.346991\n",
              "1       Seu Jorge  0.322631\n",
              "2         Beyoncé  0.218195\n",
              "3           AC/DC  0.177673\n",
              "4         Emicida  0.160938\n",
              "5           Adele  0.160733\n",
              "6    Foo Fighters  0.155049\n",
              "7         Nirvana  0.140286\n",
              "8         O Rappa  0.133560\n",
              "9  Jorge e Mateus  0.126695"
            ]
          },
          "metadata": {
            "tags": []
          },
          "execution_count": 44
        }
      ]
    },
    {
      "cell_type": "markdown",
      "metadata": {
        "id": "ks2byfnGQlbz"
      },
      "source": [
        "**Dimension 12**"
      ]
    },
    {
      "cell_type": "code",
      "metadata": {
        "id": "lpaZf_YTFS3L",
        "colab": {
          "base_uri": "https://localhost:8080/",
          "height": 359
        },
        "outputId": "1312d349-694d-4717-b211-af46b774a194"
      },
      "source": [
        "top_pages_on_dims[11] # dim12"
      ],
      "execution_count": null,
      "outputs": [
        {
          "output_type": "execute_result",
          "data": {
            "text/html": [
              "<div>\n",
              "<style scoped>\n",
              "    .dataframe tbody tr th:only-of-type {\n",
              "        vertical-align: middle;\n",
              "    }\n",
              "\n",
              "    .dataframe tbody tr th {\n",
              "        vertical-align: top;\n",
              "    }\n",
              "\n",
              "    .dataframe thead th {\n",
              "        text-align: right;\n",
              "    }\n",
              "</style>\n",
              "<table border=\"1\" class=\"dataframe\">\n",
              "  <thead>\n",
              "    <tr style=\"text-align: right;\">\n",
              "      <th></th>\n",
              "      <th>page</th>\n",
              "      <th>weight</th>\n",
              "    </tr>\n",
              "  </thead>\n",
              "  <tbody>\n",
              "    <tr>\n",
              "      <th>0</th>\n",
              "      <td>Diogo Nogueira</td>\n",
              "      <td>0.165914</td>\n",
              "    </tr>\n",
              "    <tr>\n",
              "      <th>1</th>\n",
              "      <td>Sambô</td>\n",
              "      <td>0.159816</td>\n",
              "    </tr>\n",
              "    <tr>\n",
              "      <th>2</th>\n",
              "      <td>Coldplay</td>\n",
              "      <td>0.158272</td>\n",
              "    </tr>\n",
              "    <tr>\n",
              "      <th>3</th>\n",
              "      <td>Lil Wayne</td>\n",
              "      <td>0.152142</td>\n",
              "    </tr>\n",
              "    <tr>\n",
              "      <th>4</th>\n",
              "      <td>Arlindo Cruz</td>\n",
              "      <td>0.145752</td>\n",
              "    </tr>\n",
              "    <tr>\n",
              "      <th>5</th>\n",
              "      <td>Bon Jovi</td>\n",
              "      <td>0.136622</td>\n",
              "    </tr>\n",
              "    <tr>\n",
              "      <th>6</th>\n",
              "      <td>Projota</td>\n",
              "      <td>0.135431</td>\n",
              "    </tr>\n",
              "    <tr>\n",
              "      <th>7</th>\n",
              "      <td>Paula Fernandes</td>\n",
              "      <td>0.133978</td>\n",
              "    </tr>\n",
              "    <tr>\n",
              "      <th>8</th>\n",
              "      <td>Eminem</td>\n",
              "      <td>0.127782</td>\n",
              "    </tr>\n",
              "    <tr>\n",
              "      <th>9</th>\n",
              "      <td>Usher</td>\n",
              "      <td>0.126744</td>\n",
              "    </tr>\n",
              "  </tbody>\n",
              "</table>\n",
              "</div>"
            ],
            "text/plain": [
              "              page    weight\n",
              "0   Diogo Nogueira  0.165914\n",
              "1            Sambô  0.159816\n",
              "2         Coldplay  0.158272\n",
              "3        Lil Wayne  0.152142\n",
              "4     Arlindo Cruz  0.145752\n",
              "5         Bon Jovi  0.136622\n",
              "6          Projota  0.135431\n",
              "7  Paula Fernandes  0.133978\n",
              "8           Eminem  0.127782\n",
              "9            Usher  0.126744"
            ]
          },
          "metadata": {
            "tags": []
          },
          "execution_count": 45
        }
      ]
    },
    {
      "cell_type": "markdown",
      "metadata": {
        "id": "4Bc5jtGIUJ3S"
      },
      "source": [
        "Renaming dimension (1 to 7) names."
      ]
    },
    {
      "cell_type": "code",
      "metadata": {
        "colab": {
          "base_uri": "https://localhost:8080/"
        },
        "id": "R0NMNc-FTMB8",
        "outputId": "2889b418-0673-40c7-a5c6-9fe4f23f5b76"
      },
      "source": [
        "df_data_new.columns"
      ],
      "execution_count": null,
      "outputs": [
        {
          "output_type": "execute_result",
          "data": {
            "text/plain": [
              "Index(['Dim1', 'Dim2', 'Dim3', 'Dim4', 'Dim5', 'Dim6', 'Dim7', 'Dim8', 'Dim9',\n",
              "       'Dim10', 'Dim11', 'Dim12'],\n",
              "      dtype='object')"
            ]
          },
          "metadata": {
            "tags": []
          },
          "execution_count": 46
        }
      ]
    },
    {
      "cell_type": "code",
      "metadata": {
        "id": "ty5biX1VSz8I"
      },
      "source": [
        "dict_new_names = {\"Dim1\": \"Samba and Pagode Affinity Dimension\",\n",
        "                   \"Dim2\": \"Rock Music Affinity Dimension\",\n",
        "                   \"Dim3\": \"Classical Samba and MPB Affinity Dimension\",\n",
        "                   \"Dim4\": \"Sertanejo, Axé and Rock Affinity Dimension\",\n",
        "                   \"Dim5\": \"Ecletic: Reggae, Pagode, Samba, Rock and Urban Affinity Dimension\",\n",
        "                   \"Dim6\": \"Urban and Rap Affinity Dimension\",\n",
        "                   \"Dim7\": \"Pagode, MPB and Rap Affinity Dimension\"}\n",
        "df_data_new = df_data_new.rename(columns=dict_new_names)"
      ],
      "execution_count": null,
      "outputs": []
    },
    {
      "cell_type": "code",
      "metadata": {
        "colab": {
          "base_uri": "https://localhost:8080/",
          "height": 487
        },
        "id": "3acsfWLbUDVs",
        "outputId": "1b471043-9b03-439e-cdc0-f5760a9ab9e3"
      },
      "source": [
        "df_data_new"
      ],
      "execution_count": null,
      "outputs": [
        {
          "output_type": "execute_result",
          "data": {
            "text/html": [
              "<div>\n",
              "<style scoped>\n",
              "    .dataframe tbody tr th:only-of-type {\n",
              "        vertical-align: middle;\n",
              "    }\n",
              "\n",
              "    .dataframe tbody tr th {\n",
              "        vertical-align: top;\n",
              "    }\n",
              "\n",
              "    .dataframe thead th {\n",
              "        text-align: right;\n",
              "    }\n",
              "</style>\n",
              "<table border=\"1\" class=\"dataframe\">\n",
              "  <thead>\n",
              "    <tr style=\"text-align: right;\">\n",
              "      <th></th>\n",
              "      <th>Samba and Pagode Affinity Dimension</th>\n",
              "      <th>Rock Music Affinity Dimension</th>\n",
              "      <th>Classical Samba and MPB Affinity Dimension</th>\n",
              "      <th>Sertanejo, Axé and Rock Affinity Dimension</th>\n",
              "      <th>Ecletic: Reggae, Pagode, Samba, Rock and Urban Affinity Dimension</th>\n",
              "      <th>Urban and Rap Affinity Dimension</th>\n",
              "      <th>Pagode, MPB and Rap Affinity Dimension</th>\n",
              "      <th>Dim8</th>\n",
              "      <th>Dim9</th>\n",
              "      <th>Dim10</th>\n",
              "      <th>Dim11</th>\n",
              "      <th>Dim12</th>\n",
              "    </tr>\n",
              "  </thead>\n",
              "  <tbody>\n",
              "    <tr>\n",
              "      <th>0</th>\n",
              "      <td>-0.432739</td>\n",
              "      <td>0.701025</td>\n",
              "      <td>-0.080200</td>\n",
              "      <td>-0.050831</td>\n",
              "      <td>0.696476</td>\n",
              "      <td>-0.424602</td>\n",
              "      <td>-0.097753</td>\n",
              "      <td>-0.060608</td>\n",
              "      <td>-0.315602</td>\n",
              "      <td>0.147067</td>\n",
              "      <td>0.379308</td>\n",
              "      <td>0.205217</td>\n",
              "    </tr>\n",
              "    <tr>\n",
              "      <th>1</th>\n",
              "      <td>-0.651282</td>\n",
              "      <td>-0.018121</td>\n",
              "      <td>0.026446</td>\n",
              "      <td>-0.100822</td>\n",
              "      <td>-0.012887</td>\n",
              "      <td>0.051598</td>\n",
              "      <td>0.054541</td>\n",
              "      <td>-0.024727</td>\n",
              "      <td>0.033957</td>\n",
              "      <td>0.031534</td>\n",
              "      <td>-0.055379</td>\n",
              "      <td>0.119764</td>\n",
              "    </tr>\n",
              "    <tr>\n",
              "      <th>2</th>\n",
              "      <td>-0.352995</td>\n",
              "      <td>-0.004659</td>\n",
              "      <td>0.035425</td>\n",
              "      <td>-0.852674</td>\n",
              "      <td>-0.315826</td>\n",
              "      <td>-0.539072</td>\n",
              "      <td>0.173096</td>\n",
              "      <td>-0.382872</td>\n",
              "      <td>0.342785</td>\n",
              "      <td>-0.446830</td>\n",
              "      <td>-1.173614</td>\n",
              "      <td>0.561146</td>\n",
              "    </tr>\n",
              "    <tr>\n",
              "      <th>3</th>\n",
              "      <td>0.424863</td>\n",
              "      <td>-0.742613</td>\n",
              "      <td>-0.523224</td>\n",
              "      <td>-0.733923</td>\n",
              "      <td>-0.631901</td>\n",
              "      <td>0.400829</td>\n",
              "      <td>-0.920270</td>\n",
              "      <td>-0.784905</td>\n",
              "      <td>-2.295265</td>\n",
              "      <td>-0.374697</td>\n",
              "      <td>0.790838</td>\n",
              "      <td>1.647351</td>\n",
              "    </tr>\n",
              "    <tr>\n",
              "      <th>4</th>\n",
              "      <td>-0.322031</td>\n",
              "      <td>0.640279</td>\n",
              "      <td>0.352218</td>\n",
              "      <td>-0.020739</td>\n",
              "      <td>0.504448</td>\n",
              "      <td>-0.009574</td>\n",
              "      <td>-0.006901</td>\n",
              "      <td>-0.075201</td>\n",
              "      <td>-0.261630</td>\n",
              "      <td>-0.013851</td>\n",
              "      <td>-1.223447</td>\n",
              "      <td>-2.082572</td>\n",
              "    </tr>\n",
              "    <tr>\n",
              "      <th>...</th>\n",
              "      <td>...</td>\n",
              "      <td>...</td>\n",
              "      <td>...</td>\n",
              "      <td>...</td>\n",
              "      <td>...</td>\n",
              "      <td>...</td>\n",
              "      <td>...</td>\n",
              "      <td>...</td>\n",
              "      <td>...</td>\n",
              "      <td>...</td>\n",
              "      <td>...</td>\n",
              "      <td>...</td>\n",
              "    </tr>\n",
              "    <tr>\n",
              "      <th>938</th>\n",
              "      <td>0.520213</td>\n",
              "      <td>-1.450274</td>\n",
              "      <td>-1.739932</td>\n",
              "      <td>-0.555040</td>\n",
              "      <td>2.299110</td>\n",
              "      <td>-0.670275</td>\n",
              "      <td>2.585674</td>\n",
              "      <td>1.056278</td>\n",
              "      <td>-0.775039</td>\n",
              "      <td>-0.808916</td>\n",
              "      <td>-1.649986</td>\n",
              "      <td>1.041993</td>\n",
              "    </tr>\n",
              "    <tr>\n",
              "      <th>939</th>\n",
              "      <td>1.208604</td>\n",
              "      <td>-0.375728</td>\n",
              "      <td>3.060188</td>\n",
              "      <td>-1.966719</td>\n",
              "      <td>1.876551</td>\n",
              "      <td>2.671947</td>\n",
              "      <td>-2.148584</td>\n",
              "      <td>-0.343428</td>\n",
              "      <td>-0.324041</td>\n",
              "      <td>0.318916</td>\n",
              "      <td>-1.808787</td>\n",
              "      <td>-0.772211</td>\n",
              "    </tr>\n",
              "    <tr>\n",
              "      <th>940</th>\n",
              "      <td>-0.222764</td>\n",
              "      <td>-0.641908</td>\n",
              "      <td>0.650607</td>\n",
              "      <td>0.076864</td>\n",
              "      <td>0.352937</td>\n",
              "      <td>-0.289641</td>\n",
              "      <td>-1.543510</td>\n",
              "      <td>1.274781</td>\n",
              "      <td>0.299060</td>\n",
              "      <td>0.151675</td>\n",
              "      <td>-0.681714</td>\n",
              "      <td>0.529155</td>\n",
              "    </tr>\n",
              "    <tr>\n",
              "      <th>941</th>\n",
              "      <td>1.508431</td>\n",
              "      <td>-0.095801</td>\n",
              "      <td>1.834182</td>\n",
              "      <td>-0.281802</td>\n",
              "      <td>2.412737</td>\n",
              "      <td>1.076442</td>\n",
              "      <td>-0.380198</td>\n",
              "      <td>-1.413602</td>\n",
              "      <td>1.661250</td>\n",
              "      <td>1.931586</td>\n",
              "      <td>-1.152892</td>\n",
              "      <td>-0.139284</td>\n",
              "    </tr>\n",
              "    <tr>\n",
              "      <th>942</th>\n",
              "      <td>-0.651282</td>\n",
              "      <td>-0.018121</td>\n",
              "      <td>0.026446</td>\n",
              "      <td>-0.100822</td>\n",
              "      <td>-0.012887</td>\n",
              "      <td>0.051598</td>\n",
              "      <td>0.054541</td>\n",
              "      <td>-0.024727</td>\n",
              "      <td>0.033957</td>\n",
              "      <td>0.031534</td>\n",
              "      <td>-0.055379</td>\n",
              "      <td>0.119764</td>\n",
              "    </tr>\n",
              "  </tbody>\n",
              "</table>\n",
              "<p>943 rows × 12 columns</p>\n",
              "</div>"
            ],
            "text/plain": [
              "     Samba and Pagode Affinity Dimension  ...     Dim12\n",
              "0                              -0.432739  ...  0.205217\n",
              "1                              -0.651282  ...  0.119764\n",
              "2                              -0.352995  ...  0.561146\n",
              "3                               0.424863  ...  1.647351\n",
              "4                              -0.322031  ... -2.082572\n",
              "..                                   ...  ...       ...\n",
              "938                             0.520213  ...  1.041993\n",
              "939                             1.208604  ... -0.772211\n",
              "940                            -0.222764  ...  0.529155\n",
              "941                             1.508431  ... -0.139284\n",
              "942                            -0.651282  ...  0.119764\n",
              "\n",
              "[943 rows x 12 columns]"
            ]
          },
          "metadata": {
            "tags": []
          },
          "execution_count": 48
        }
      ]
    },
    {
      "cell_type": "markdown",
      "metadata": {
        "id": "N71VcRNS9k2u"
      },
      "source": [
        "# **Clustering**"
      ]
    },
    {
      "cell_type": "markdown",
      "metadata": {
        "id": "IGfkk_mnQ7zd"
      },
      "source": [
        "We'll make cluster analysis in 2 steps, the first with the application of **hierarquical cluster**, to determine the ideal number of clusters (k), following with the application of **k-means**, using the selected number of clusters (k)."
      ]
    },
    {
      "cell_type": "markdown",
      "metadata": {
        "id": "CgI9KEWX949p"
      },
      "source": [
        "## **Hierarquical Clustering**"
      ]
    },
    {
      "cell_type": "code",
      "metadata": {
        "id": "GRJz0dDU01Dj"
      },
      "source": [
        "def plot_dendrogram(model, **kwargs):\n",
        "    # Create linkage matrix and then plot the dendrogram\n",
        "\n",
        "    # create the counts of samples under each node\n",
        "    counts = np.zeros(model.children_.shape[0])\n",
        "    n_samples = len(model.labels_)\n",
        "    for i, merge in enumerate(model.children_):\n",
        "        current_count = 0\n",
        "        for child_idx in merge:\n",
        "            if child_idx < n_samples:\n",
        "                current_count += 1  # leaf node\n",
        "            else:\n",
        "                current_count += counts[child_idx - n_samples]\n",
        "        counts[i] = current_count\n",
        "\n",
        "    linkage_matrix = np.column_stack([model.children_, model.distances_,\n",
        "                                      counts]).astype(float)\n",
        "\n",
        "    # Plot the corresponding dendrogram\n",
        "    dendrogram(linkage_matrix, **kwargs)"
      ],
      "execution_count": null,
      "outputs": []
    },
    {
      "cell_type": "code",
      "metadata": {
        "id": "llqiCWc51AsN",
        "colab": {
          "base_uri": "https://localhost:8080/",
          "height": 353
        },
        "outputId": "ac874a24-47bc-4821-fa1e-e4861e4efba6"
      },
      "source": [
        "# setting distance_threshold=0 ensures we compute the full tree.\n",
        "model = AgglomerativeClustering(distance_threshold=0, n_clusters=None, linkage='ward')\n",
        "\n",
        "model = model.fit(df_data_new)\n",
        "plt.figure(figsize=(10,5))\n",
        "plt.title('Hierarchical Clustering Dendrogram')\n",
        "# plot the top three levels of the dendrogram\n",
        "plot_dendrogram(model, truncate_mode='level', p=10)\n",
        "plt.xlabel(\"Number of points in node (or index of point if no parenthesis).\")\n",
        "plt.show()"
      ],
      "execution_count": null,
      "outputs": [
        {
          "output_type": "display_data",
          "data": {
            "image/png": "[encoded data removed]",
            "text/plain": [
              "<Figure size 720x360 with 1 Axes>"
            ]
          },
          "metadata": {
            "tags": [],
            "needs_background": "light"
          }
        }
      ]
    },
    {
      "cell_type": "markdown",
      "metadata": {
        "id": "56fnbtdaRr5G"
      },
      "source": [
        "We considered 5 as good number of clusters to our dataset."
      ]
    },
    {
      "cell_type": "markdown",
      "metadata": {
        "id": "-Q4ZiNKw9-O7"
      },
      "source": [
        "## **K-Means**"
      ]
    },
    {
      "cell_type": "code",
      "metadata": {
        "id": "ji_Bml0a-nAA"
      },
      "source": [
        "kmeans = KMeans(n_clusters=5, random_state=0).fit(df_data_new)"
      ],
      "execution_count": null,
      "outputs": []
    },
    {
      "cell_type": "code",
      "metadata": {
        "id": "l6m0rF3ZCgXP"
      },
      "source": [
        "df_cluster_data = pd.concat([df_data_new, pd.Series(kmeans.predict(df_data_new), name='cluster')], axis=1)"
      ],
      "execution_count": null,
      "outputs": []
    },
    {
      "cell_type": "markdown",
      "metadata": {
        "id": "2Kbql3mP-EtT"
      },
      "source": [
        "## **Clusters Profiling**"
      ]
    },
    {
      "cell_type": "code",
      "metadata": {
        "id": "UcH30pdZIKnb",
        "colab": {
          "base_uri": "https://localhost:8080/",
          "height": 1000
        },
        "outputId": "150cf517-9b2e-4921-f711-8a3ffeb5592b"
      },
      "source": [
        "fig, axs = plt.subplots(6, 2,figsize=(20,20))\n",
        "for i in range(12):\n",
        "  columns = dict_new_names['Dim{}'.format(i+1)] if 'Dim{}'.format(i+1) in dict_new_names else 'Dim{}'.format(i+1)\n",
        "  data = [df_cluster_data[df_cluster_data['cluster']==c][columns].values for c in np.unique(df_cluster_data['cluster'].values)]\n",
        "  axs[i if i < 6 else i - 6, i // 6].boxplot(data)\n",
        "  axs[i if i < 6 else i - 6, i // 6].set_title(dict_new_names['Dim{}'.format(i+1)] if 'Dim{}'.format(i+1) in dict_new_names else 'Dimension {}'.format(i + 1))\n",
        "\n",
        "for ax in axs.flat:\n",
        "    ax.set(xlabel='x-label', ylabel='y-label')\n",
        "\n",
        "# Hide x labels and tick labels for top plots and y ticks for right plots.\n",
        "for ax in axs.flat:\n",
        "    ax.label_outer()\n",
        "\n",
        "plt.show()"
      ],
      "execution_count": null,
      "outputs": [
        {
          "output_type": "display_data",
          "data": {
            "image/png": "[encoded data removed]",
            "text/plain": [
              "<Figure size 1440x1440 with 12 Axes>"
            ]
          },
          "metadata": {
            "tags": [],
            "needs_background": "light"
          }
        }
      ]
    },
    {
      "cell_type": "code",
      "metadata": {
        "colab": {
          "base_uri": "https://localhost:8080/"
        },
        "id": "IhOCQJtacPMK",
        "outputId": "eaee1590-4cdc-42a7-decf-c0d1f495ab89"
      },
      "source": [
        "df_cluster_data['cluster'].value_counts().sort_index()"
      ],
      "execution_count": null,
      "outputs": [
        {
          "output_type": "execute_result",
          "data": {
            "text/plain": [
              "0     78\n",
              "1     85\n",
              "2     71\n",
              "3    679\n",
              "4     30\n",
              "Name: cluster, dtype: int64"
            ]
          },
          "metadata": {
            "tags": []
          },
          "execution_count": 96
        }
      ]
    },
    {
      "cell_type": "code",
      "metadata": {
        "id": "5SuG3W1fek-8"
      },
      "source": [
        "df_cluster_data['cluster'] = df_cluster_data['cluster'].apply(lambda x: x + 1) #change cluster to star with 1"
      ],
      "execution_count": null,
      "outputs": []
    },
    {
      "cell_type": "code",
      "metadata": {
        "id": "_Vwo96-ZB0Cs",
        "colab": {
          "base_uri": "https://localhost:8080/",
          "height": 303
        },
        "outputId": "2d0d7f72-30f5-49fd-8edf-72ec61564d54"
      },
      "source": [
        "df_cluster_data.groupby('cluster').aggregate({dict_new_names['Dim{}'.format(i+1)] if 'Dim{}'.format(i+1) in dict_new_names else 'Dim{}'.format(i+1) : np.mean for i in range(svd.components_.shape[0])})"
      ],
      "execution_count": null,
      "outputs": [
        {
          "output_type": "execute_result",
          "data": {
            "text/html": [
              "<div>\n",
              "<style scoped>\n",
              "    .dataframe tbody tr th:only-of-type {\n",
              "        vertical-align: middle;\n",
              "    }\n",
              "\n",
              "    .dataframe tbody tr th {\n",
              "        vertical-align: top;\n",
              "    }\n",
              "\n",
              "    .dataframe thead th {\n",
              "        text-align: right;\n",
              "    }\n",
              "</style>\n",
              "<table border=\"1\" class=\"dataframe\">\n",
              "  <thead>\n",
              "    <tr style=\"text-align: right;\">\n",
              "      <th></th>\n",
              "      <th>Samba and Pagode Affinity Dimension</th>\n",
              "      <th>Rock Music Affinity Dimension</th>\n",
              "      <th>Classical Samba and MPB Affinity Dimension</th>\n",
              "      <th>Sertanejo, Axé and Rock Affinity Dimension</th>\n",
              "      <th>Ecletic: Reggae, Pagode, Samba, Rock and Urban Affinity Dimension</th>\n",
              "      <th>Urban and Rap Affinity Dimension</th>\n",
              "      <th>Pagode, MPB and Rap Affinity Dimension</th>\n",
              "      <th>Dim8</th>\n",
              "      <th>Dim9</th>\n",
              "      <th>Dim10</th>\n",
              "      <th>Dim11</th>\n",
              "      <th>Dim12</th>\n",
              "    </tr>\n",
              "    <tr>\n",
              "      <th>cluster</th>\n",
              "      <th></th>\n",
              "      <th></th>\n",
              "      <th></th>\n",
              "      <th></th>\n",
              "      <th></th>\n",
              "      <th></th>\n",
              "      <th></th>\n",
              "      <th></th>\n",
              "      <th></th>\n",
              "      <th></th>\n",
              "      <th></th>\n",
              "      <th></th>\n",
              "    </tr>\n",
              "  </thead>\n",
              "  <tbody>\n",
              "    <tr>\n",
              "      <th>1</th>\n",
              "      <td>0.548991</td>\n",
              "      <td>-0.214407</td>\n",
              "      <td>-0.504619</td>\n",
              "      <td>0.910466</td>\n",
              "      <td>-1.000385</td>\n",
              "      <td>0.291626</td>\n",
              "      <td>0.109067</td>\n",
              "      <td>-0.501567</td>\n",
              "      <td>-2.014069</td>\n",
              "      <td>0.469036</td>\n",
              "      <td>0.252476</td>\n",
              "      <td>-0.117252</td>\n",
              "    </tr>\n",
              "    <tr>\n",
              "      <th>2</th>\n",
              "      <td>0.758719</td>\n",
              "      <td>-0.437479</td>\n",
              "      <td>-0.955882</td>\n",
              "      <td>0.635486</td>\n",
              "      <td>-0.035497</td>\n",
              "      <td>0.581522</td>\n",
              "      <td>0.476819</td>\n",
              "      <td>-0.388543</td>\n",
              "      <td>1.337296</td>\n",
              "      <td>-1.066195</td>\n",
              "      <td>0.508274</td>\n",
              "      <td>-0.160324</td>\n",
              "    </tr>\n",
              "    <tr>\n",
              "      <th>3</th>\n",
              "      <td>1.509835</td>\n",
              "      <td>-1.162816</td>\n",
              "      <td>1.116762</td>\n",
              "      <td>-0.061875</td>\n",
              "      <td>0.284636</td>\n",
              "      <td>-0.051332</td>\n",
              "      <td>-1.587355</td>\n",
              "      <td>0.369755</td>\n",
              "      <td>0.324664</td>\n",
              "      <td>0.508191</td>\n",
              "      <td>-0.507176</td>\n",
              "      <td>0.522551</td>\n",
              "    </tr>\n",
              "    <tr>\n",
              "      <th>4</th>\n",
              "      <td>-0.383781</td>\n",
              "      <td>0.059006</td>\n",
              "      <td>0.067842</td>\n",
              "      <td>-0.190720</td>\n",
              "      <td>0.011382</td>\n",
              "      <td>-0.031147</td>\n",
              "      <td>0.093161</td>\n",
              "      <td>0.071200</td>\n",
              "      <td>0.037141</td>\n",
              "      <td>0.008455</td>\n",
              "      <td>-0.085713</td>\n",
              "      <td>-0.044443</td>\n",
              "    </tr>\n",
              "    <tr>\n",
              "      <th>5</th>\n",
              "      <td>1.535881</td>\n",
              "      <td>3.213479</td>\n",
              "      <td>-0.158141</td>\n",
              "      <td>0.295306</td>\n",
              "      <td>1.770325</td>\n",
              "      <td>-1.579434</td>\n",
              "      <td>0.013645</td>\n",
              "      <td>-0.081637</td>\n",
              "      <td>-0.161413</td>\n",
              "      <td>0.407302</td>\n",
              "      <td>1.043742</td>\n",
              "      <td>0.528297</td>\n",
              "    </tr>\n",
              "  </tbody>\n",
              "</table>\n",
              "</div>"
            ],
            "text/plain": [
              "         Samba and Pagode Affinity Dimension  ...     Dim12\n",
              "cluster                                       ...          \n",
              "1                                   0.548991  ... -0.117252\n",
              "2                                   0.758719  ... -0.160324\n",
              "3                                   1.509835  ...  0.522551\n",
              "4                                  -0.383781  ... -0.044443\n",
              "5                                   1.535881  ...  0.528297\n",
              "\n",
              "[5 rows x 12 columns]"
            ]
          },
          "metadata": {
            "tags": []
          },
          "execution_count": 106
        }
      ]
    },
    {
      "cell_type": "markdown",
      "metadata": {
        "id": "lfslzluGiIru"
      },
      "source": [
        "As observed at the most liked music pages in **Cluster 1**, it reunites who has affinity with different styles like **Axé, Pop, MPB, Pagode and Samba**."
      ]
    },
    {
      "cell_type": "code",
      "metadata": {
        "colab": {
          "base_uri": "https://localhost:8080/"
        },
        "id": "tnjIf0mUXcTw",
        "outputId": "9dcd059a-eb1a-4e6e-fea1-fb7e1220d6ab"
      },
      "source": [
        "cluster = 1\n",
        "print('*** Cluster {} ***'.format(cluster))\n",
        "print()\n",
        "print(df_data[df_cluster_data['cluster'] == cluster].sum().sort_values(ascending=False)[:10])\n",
        "print()\n",
        "print('Avg Likes per User: {}'.format(df_data[df_cluster_data['cluster'] == cluster].sum().sum() / df_data[df_cluster_data['cluster'] == cluster].shape[0]))"
      ],
      "execution_count": null,
      "outputs": [
        {
          "output_type": "stream",
          "text": [
            "*** Cluster 1 ***\n",
            "\n",
            "Ivete Sangalo      78.0\n",
            "Adele              20.0\n",
            "Diogo Nogueira     19.0\n",
            "Turma do Pagode    15.0\n",
            "Beyoncé            15.0\n",
            "Chico Buarque      14.0\n",
            "Péricles           13.0\n",
            "Exaltasamba        13.0\n",
            "Rihanna            12.0\n",
            "Samba              12.0\n",
            "dtype: float64\n",
            "\n",
            "Avg Likes per User: 7.461538461538462\n"
          ],
          "name": "stdout"
        }
      ]
    },
    {
      "cell_type": "markdown",
      "metadata": {
        "id": "_LtQZVIlh5zN"
      },
      "source": [
        "In **Cluster 2** we can observe users who has more affinity to **Sertanejo, Samba and Pagode Style**."
      ]
    },
    {
      "cell_type": "code",
      "metadata": {
        "colab": {
          "base_uri": "https://localhost:8080/"
        },
        "id": "cj5jqJOag50U",
        "outputId": "c4e87720-9343-4be0-e3f1-3b9bd93a0085"
      },
      "source": [
        "cluster = 2\n",
        "print('*** Cluster {} ***'.format(cluster))\n",
        "print()\n",
        "print(df_data[df_cluster_data['cluster'] == cluster].sum().sort_values(ascending=False)[:10])\n",
        "print()\n",
        "print('Avg Likes per User: {}'.format(df_data[df_cluster_data['cluster'] == cluster].sum().sum() / df_data[df_cluster_data['cluster'] == cluster].shape[0]))"
      ],
      "execution_count": null,
      "outputs": [
        {
          "output_type": "stream",
          "text": [
            "*** Cluster 2 ***\n",
            "\n",
            "Jorge e Mateus         53.0\n",
            "Jorge & Mateus         33.0\n",
            "Seu Jorge              31.0\n",
            "Fernando e Sorocaba    30.0\n",
            "Exaltasamba            27.0\n",
            "Diogo Nogueira         22.0\n",
            "Arlindo Cruz           22.0\n",
            "Turma do Pagode        22.0\n",
            "Beyoncé                20.0\n",
            "Péricles               19.0\n",
            "dtype: float64\n",
            "\n",
            "Avg Likes per User: 9.564705882352941\n"
          ],
          "name": "stdout"
        }
      ]
    },
    {
      "cell_type": "markdown",
      "metadata": {
        "id": "MzdrBIFfhzeP"
      },
      "source": [
        "**Cluster 3** clearly reunites who has more affinity to **Samba and Pagode Style**."
      ]
    },
    {
      "cell_type": "code",
      "metadata": {
        "colab": {
          "base_uri": "https://localhost:8080/"
        },
        "id": "Ok5c26kfg7vX",
        "outputId": "1a3dd91d-8abc-4e24-9ce6-d5352788897a"
      },
      "source": [
        "cluster = 3\n",
        "print('*** Cluster {} ***'.format(cluster))\n",
        "print()\n",
        "print(df_data[df_cluster_data['cluster'] == cluster].sum().sort_values(ascending=False)[:10])\n",
        "print()\n",
        "print('Avg Likes per User: {}'.format(df_data[df_cluster_data['cluster'] == cluster].sum().sum() / df_data[df_cluster_data['cluster'] == cluster].shape[0]))"
      ],
      "execution_count": null,
      "outputs": [
        {
          "output_type": "stream",
          "text": [
            "*** Cluster 3 ***\n",
            "\n",
            "Zeca Pagodinho                                59.0\n",
            "Arlindo Cruz                                  58.0\n",
            "Diogo Nogueira                                42.0\n",
            "Beth Carvalho                                 29.0\n",
            "Péricles                                      27.0\n",
            "Samba                                         26.0\n",
            "Exaltasamba                                   21.0\n",
            "Djavan                                        21.0\n",
            "Ivete Sangalo                                 21.0\n",
            "BATERIA RITMO PURO RITMISTAS CARNAVAL 2012    19.0\n",
            "dtype: float64\n",
            "\n",
            "Avg Likes per User: 13.80281690140845\n"
          ],
          "name": "stdout"
        }
      ]
    },
    {
      "cell_type": "markdown",
      "metadata": {
        "id": "t46BejiDikn8"
      },
      "source": [
        "**Cluster 4** is the one with majority of users. It doesn't seem very clear the preferential style. Observing the average number of likes per user, we can infer that this is the group of users not engaged to provide likes to Facebook pases "
      ]
    },
    {
      "cell_type": "code",
      "metadata": {
        "colab": {
          "base_uri": "https://localhost:8080/"
        },
        "id": "a6naVcCjg9hf",
        "outputId": "bb8f5b1b-2553-4127-cf60-8d440f04a91b"
      },
      "source": [
        "cluster = 4\n",
        "print('*** Cluster {} ***'.format(cluster))\n",
        "print()\n",
        "print(df_data[df_cluster_data['cluster'] == cluster].sum().sort_values(ascending=False)[:10])\n",
        "print()\n",
        "print('Avg Likes per User: {}'.format(df_data[df_cluster_data['cluster'] == cluster].sum().sum() / df_data[df_cluster_data['cluster'] == cluster].shape[0]))"
      ],
      "execution_count": null,
      "outputs": [
        {
          "output_type": "stream",
          "text": [
            "*** Cluster 4 ***\n",
            "\n",
            "Bob Marley           50.0\n",
            "Adele                37.0\n",
            "The Beatles          33.0\n",
            "Michael Jackson      33.0\n",
            "Beyoncé              32.0\n",
            "David Guetta         31.0\n",
            "Apito de Mestre      31.0\n",
            "Pretinho do Poder    30.0\n",
            "Chico Buarque        29.0\n",
            "Criolo               27.0\n",
            "dtype: float64\n",
            "\n",
            "Avg Likes per User: 1.9764359351988219\n"
          ],
          "name": "stdout"
        }
      ]
    },
    {
      "cell_type": "markdown",
      "metadata": {
        "id": "PS60ZiAlhR2G"
      },
      "source": [
        "**Cluster 5** strongly reunites people with great affinity to **Rock Style**."
      ]
    },
    {
      "cell_type": "code",
      "metadata": {
        "colab": {
          "base_uri": "https://localhost:8080/"
        },
        "id": "SE91l31Ig-7N",
        "outputId": "086843e7-8b1d-46df-93c4-c21442971b6a"
      },
      "source": [
        "cluster = 5\n",
        "print('*** Cluster {} ***'.format(cluster))\n",
        "print()\n",
        "print(df_data[df_cluster_data['cluster'] == cluster].sum().sort_values(ascending=False)[:10])\n",
        "print()\n",
        "print('Avg Likes per User: {}'.format(df_data[df_cluster_data['cluster'] == cluster].sum().sum() / df_data[df_cluster_data['cluster'] == cluster].shape[0]))"
      ],
      "execution_count": null,
      "outputs": [
        {
          "output_type": "stream",
          "text": [
            "*** Cluster 5 ***\n",
            "\n",
            "Nirvana                  28.0\n",
            "Guns N' Roses            23.0\n",
            "Red Hot Chili Peppers    22.0\n",
            "AC/DC                    21.0\n",
            "The Rolling Stones       20.0\n",
            "Metallica                20.0\n",
            "The Doors                20.0\n",
            "Pink Floyd               18.0\n",
            "Foo Fighters             18.0\n",
            "Pearl Jam                17.0\n",
            "dtype: float64\n",
            "\n",
            "Avg Likes per User: 17.966666666666665\n"
          ],
          "name": "stdout"
        }
      ]
    }
  ]
}